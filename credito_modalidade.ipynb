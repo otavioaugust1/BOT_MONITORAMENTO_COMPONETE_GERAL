{
 "cells": [
  {
   "cell_type": "markdown",
   "id": "cb2205ef",
   "metadata": {
    "papermill": {
     "duration": 0.003,
     "end_time": "2025-10-23T20:57:14.624123",
     "exception": false,
     "start_time": "2025-10-23T20:57:14.621123",
     "status": "completed"
    },
    "tags": []
   },
   "source": [
    "# PRIMEIRA PARTE - downloads manual dos arquivos do INVESTSUS"
   ]
  },
  {
   "cell_type": "code",
   "execution_count": 1,
   "id": "4644f7ef",
   "metadata": {
    "execution": {
     "iopub.execute_input": "2025-10-23T20:57:14.631129Z",
     "iopub.status.busy": "2025-10-23T20:57:14.631129Z",
     "iopub.status.idle": "2025-10-23T20:58:16.992662Z",
     "shell.execute_reply": "2025-10-23T20:58:16.992662Z"
    },
    "papermill": {
     "duration": 62.366598,
     "end_time": "2025-10-23T20:58:16.993721",
     "exception": false,
     "start_time": "2025-10-23T20:57:14.627123",
     "status": "completed"
    },
    "tags": []
   },
   "outputs": [
    {
     "name": "stdout",
     "output_type": "stream",
     "text": [
      "🔵 Início da execução: 17:57:14\n",
      "📁 Diretório de downloads configurado: C:\\GitHUB\\BOT_MONITORAMENTO_COMPONETE_GERAL\\downloads\n"
     ]
    },
    {
     "name": "stdout",
     "output_type": "stream",
     "text": [
      "🚀 Navegador Edge iniciado com sucesso.\n"
     ]
    },
    {
     "name": "stdout",
     "output_type": "stream",
     "text": [
      "🌐 Página acessada: https://investsuspaineis.saude.gov.br/extensions/CGIN_PMAE/CGIN_PMAE.html#\n"
     ]
    },
    {
     "name": "stdout",
     "output_type": "stream",
     "text": [
      "📂 Acessando aba: Crédito Financeiro\n"
     ]
    },
    {
     "name": "stdout",
     "output_type": "stream",
     "text": [
      "📥 Iniciando download para: credito_financeiro_aba1.xlsx\n"
     ]
    },
    {
     "name": "stdout",
     "output_type": "stream",
     "text": [
      "📦 Arquivo renomeado para: credito_financeiro_aba1.xlsx\n",
      "\n",
      "📥 Iniciando download para: credito_financeiro_aba2.xlsx\n"
     ]
    },
    {
     "name": "stdout",
     "output_type": "stream",
     "text": [
      "📦 Arquivo renomeado para: credito_financeiro_aba2.xlsx\n",
      "\n",
      "📥 Iniciando download para: credito_financeiro_aba3.xlsx\n"
     ]
    },
    {
     "name": "stdout",
     "output_type": "stream",
     "text": [
      "📦 Arquivo renomeado para: credito_financeiro_aba3.xlsx\n",
      "\n",
      "📂 Acessando aba: Modalidade 1\n"
     ]
    },
    {
     "name": "stdout",
     "output_type": "stream",
     "text": [
      "📥 Iniciando download para: modalidade_1_aba1.xlsx\n"
     ]
    },
    {
     "name": "stdout",
     "output_type": "stream",
     "text": [
      "📦 Arquivo renomeado para: modalidade_1_aba1.xlsx\n",
      "\n",
      "📥 Iniciando download para: modalidade_1_aba2.xlsx\n"
     ]
    },
    {
     "name": "stdout",
     "output_type": "stream",
     "text": [
      "📦 Arquivo renomeado para: modalidade_1_aba2.xlsx\n",
      "\n",
      "📥 Iniciando download para: modalidade_1_aba3.xlsx\n"
     ]
    },
    {
     "name": "stdout",
     "output_type": "stream",
     "text": [
      "📦 Arquivo renomeado para: modalidade_1_aba3.xlsx\n",
      "\n"
     ]
    }
   ],
   "source": [
    "# 📚 BIBLIOTECAS\n",
    "import os\n",
    "import time\n",
    "import warnings\n",
    "from datetime import datetime\n",
    "from selenium import webdriver\n",
    "from selenium.webdriver.common.by import By\n",
    "from selenium.webdriver.support.ui import WebDriverWait\n",
    "from selenium.webdriver.support import expected_conditions as EC\n",
    "from selenium.webdriver.edge.service import Service\n",
    "from selenium.webdriver.edge.options import Options\n",
    "\n",
    "# 🔕 Oculta alertas\n",
    "warnings.filterwarnings('ignore')\n",
    "\n",
    "# Contagem de TEMPO de processamento\n",
    "inicio = datetime.now()\n",
    "print(f\"🔵 Início da execução: {inicio.strftime('%H:%M:%S')}\")\n",
    "\n",
    "# 📁 Diretório de downloads\n",
    "DOWNLOAD_DIR = os.path.join(os.getcwd(), \"downloads\")\n",
    "os.makedirs(DOWNLOAD_DIR, exist_ok=True)\n",
    "print(f\"📁 Diretório de downloads configurado: {DOWNLOAD_DIR}\")\n",
    "\n",
    "# ⚙️ Configuração do Edge\n",
    "driver_path = os.path.join(os.getcwd(), \"web\", \"msedgedriver.exe\")\n",
    "service = Service(executable_path=driver_path)\n",
    "edge_options = Options()\n",
    "\n",
    "# Configura o modo headless (invisível)\n",
    "edge_options.add_argument(\"--headless\")             # Executa sem abrir a janela\n",
    "edge_options.add_argument(\"--disable-gpu\")          # Evita problemas gráficos\n",
    "edge_options.add_argument(\"--window-size=1920,1080\")  # Define tamanho da janela virtual\n",
    "\n",
    "# Configurações de download\n",
    "edge_options.add_experimental_option(\"prefs\", {\n",
    "    \"download.default_directory\": DOWNLOAD_DIR,\n",
    "    \"download.prompt_for_download\": False,\n",
    "    \"directory_upgrade\": True,\n",
    "    \"safebrowsing.enabled\": True\n",
    "})\n",
    "\n",
    "# 🚀 Inicializa o navegador com as opções já configuradas\n",
    "driver = webdriver.Edge(service=service, options=edge_options)\n",
    "\n",
    "wait = WebDriverWait(driver, 20)\n",
    "print(\"🚀 Navegador Edge iniciado com sucesso.\")\n",
    "\n",
    "# Configura o modo headless\n",
    "edge_options.add_argument(\"--headless\")  # Executa sem abrir a janela\n",
    "edge_options.add_argument(\"--disable-gpu\")  # Evita problemas gráficos\n",
    "edge_options.add_argument(\"--window-size=1920,1080\")  # Define tamanho da janela virtual\n",
    "\n",
    "\n",
    "# 🌐 Acessa a página alvo\n",
    "url = \"https://investsuspaineis.saude.gov.br/extensions/CGIN_PMAE/CGIN_PMAE.html#\"\n",
    "driver.get(url)\n",
    "print(f\"🌐 Página acessada: {url}\")\n",
    "time.sleep(5)\n",
    "\n",
    "# 🔁 Função para baixar e renomear arquivos\n",
    "def baixar_e_renomear(xpath_botao, nome_destino):\n",
    "    print(f\"📥 Iniciando download para: {nome_destino}\")\n",
    "    \n",
    "    # Clica no botão de download\n",
    "    botao = wait.until(EC.element_to_be_clickable((By.XPATH, xpath_botao)))\n",
    "    botao.click()\n",
    "    time.sleep(2)\n",
    "\n",
    "    # Aceita o alerta\n",
    "    WebDriverWait(driver, 10).until(EC.alert_is_present())\n",
    "    alerta = driver.switch_to.alert\n",
    "    alerta.accept()\n",
    "\n",
    "    # Aguarda o download finalizar\n",
    "    time.sleep(5)\n",
    "\n",
    "    # Renomeia o arquivo mais recente .xlsx\n",
    "    arquivos_xlsx = [os.path.join(DOWNLOAD_DIR, f) for f in os.listdir(DOWNLOAD_DIR) if f.endswith(\".xlsx\")]\n",
    "    arquivo_mais_recente = max(arquivos_xlsx, key=os.path.getctime)\n",
    "    caminho_novo = os.path.join(DOWNLOAD_DIR, nome_destino)\n",
    "\n",
    "    # Se já existir um arquivo com o nome de destino, exclui\n",
    "    if os.path.exists(caminho_novo):\n",
    "        os.remove(caminho_novo)\n",
    "\n",
    "    # Renomeia o novo arquivo\n",
    "    os.rename(arquivo_mais_recente, caminho_novo)\n",
    "    print(f\"📦 Arquivo renomeado para: {nome_destino}\\n\")\n",
    "\n",
    "\n",
    "# 📊 Aba Crédito\n",
    "print(\"📂 Acessando aba: Crédito Financeiro\")\n",
    "aba_credito = wait.until(EC.element_to_be_clickable((By.XPATH,'//*[@id=\"menu_abas\"]/a[3]')))\n",
    "aba_credito.click()\n",
    "time.sleep(5)\n",
    "\n",
    "baixar_e_renomear('//*[@id=\"QV3-02574e8688-0e17-49d8-8ca9-c037abb4a5f7\"]', \"credito_financeiro_aba1.xlsx\")\n",
    "baixar_e_renomear('//*[@id=\"QV3-03a27c0e0b-cac7-45c5-92c1-ec1cb34f3828\"]', \"credito_financeiro_aba2.xlsx\")\n",
    "baixar_e_renomear('//*[@id=\"QV3-04541ab7f8-9dda-4cbd-82cf-72840cb4ac2d\"]', \"credito_financeiro_aba3.xlsx\")\n",
    "\n",
    "# 📊 Aba Modalidade 1\n",
    "print(\"📂 Acessando aba: Modalidade 1\")\n",
    "aba_modalidade = wait.until(EC.element_to_be_clickable((By.XPATH,'//*[@id=\"menu_abas\"]/a[4]')))\n",
    "aba_modalidade.click()\n",
    "time.sleep(5)\n",
    "\n",
    "baixar_e_renomear('//*[@id=\"QV4-02yfhvCp\"]', \"modalidade_1_aba1.xlsx\")\n",
    "baixar_e_renomear('//*[@id=\"QV4-03JQRjW\"]', \"modalidade_1_aba2.xlsx\")\n",
    "baixar_e_renomear('//*[@id=\"QV4-04gvqxmPC\"]', \"modalidade_1_aba3.xlsx\")\n",
    "\n",
    "driver.quit()\n"
   ]
  },
  {
   "cell_type": "markdown",
   "id": "c3eee1fd",
   "metadata": {
    "papermill": {
     "duration": 0.002996,
     "end_time": "2025-10-23T20:58:17.000720",
     "exception": false,
     "start_time": "2025-10-23T20:58:16.997724",
     "status": "completed"
    },
    "tags": []
   },
   "source": [
    "# SEGUNDA PARTE, REALIZAR TRATAMENTO DOS DADOS."
   ]
  },
  {
   "cell_type": "code",
   "execution_count": 2,
   "id": "908e8c05",
   "metadata": {
    "execution": {
     "iopub.execute_input": "2025-10-23T20:58:17.009396Z",
     "iopub.status.busy": "2025-10-23T20:58:17.009396Z",
     "iopub.status.idle": "2025-10-23T20:58:18.189464Z",
     "shell.execute_reply": "2025-10-23T20:58:18.189464Z"
    },
    "papermill": {
     "duration": 1.187222,
     "end_time": "2025-10-23T20:58:18.190942",
     "exception": false,
     "start_time": "2025-10-23T20:58:17.003720",
     "status": "completed"
    },
    "tags": []
   },
   "outputs": [],
   "source": [
    "\n",
    "import pandas as pd\n",
    "# Ajusta a opção de exibição para mostrar todas as colunas\n",
    "pd.set_option('display.max_columns', None)\n",
    "\n",
    "\n",
    "# Créditos financeiros\n",
    "df_cf_aba1 = pd.read_excel(\"downloads/credito_financeiro_aba1.xlsx\")\n",
    "df_cf_aba2 = pd.read_excel(\"downloads/credito_financeiro_aba2.xlsx\")\n",
    "df_cf_aba3 = pd.read_excel(\"downloads/credito_financeiro_aba3.xlsx\")\n",
    "\n",
    "# Modalidade 1\n",
    "df_m1_aba1 = pd.read_excel(\"downloads/modalidade_1_aba1.xlsx\")\n",
    "df_m1_aba2 = pd.read_excel(\"downloads/modalidade_1_aba2.xlsx\")\n",
    "df_m1_aba3 = pd.read_excel(\"downloads/modalidade_1_aba3.xlsx\")\n"
   ]
  },
  {
   "cell_type": "code",
   "execution_count": 3,
   "id": "9466a305",
   "metadata": {
    "execution": {
     "iopub.execute_input": "2025-10-23T20:58:18.199974Z",
     "iopub.status.busy": "2025-10-23T20:58:18.198974Z",
     "iopub.status.idle": "2025-10-23T20:58:18.207974Z",
     "shell.execute_reply": "2025-10-23T20:58:18.207974Z"
    },
    "papermill": {
     "duration": 0.014238,
     "end_time": "2025-10-23T20:58:18.209214",
     "exception": false,
     "start_time": "2025-10-23T20:58:18.194976",
     "status": "completed"
    },
    "tags": []
   },
   "outputs": [
    {
     "name": "stdout",
     "output_type": "stream",
     "text": [
      "✅ df_cf_aba1: 1 propostas marcadas como 'Aprovado'.\n",
      "✅ df_cf_aba2: 0 propostas marcadas como 'Aprovado'.\n",
      "✅ df_cf_aba3: 25 propostas marcadas como 'Aprovado'.\n"
     ]
    }
   ],
   "source": [
    "# Lista de propostas a aprovar\n",
    "propostas_aprovada = [\n",
    "    781831300012025501   # APROVAÇÃO DE SOBRAL (MANUALMENTE)\n",
    "]\n",
    "\n",
    "# Converte os valores da lista para string\n",
    "propostas_aprovada = [str(p) for p in propostas_aprovada]\n",
    "\n",
    "# Atualiza o status nos três DataFrames\n",
    "for i, df in enumerate([df_cf_aba1, df_cf_aba2, df_cf_aba3], start=1):\n",
    "    # Garante que a coluna esteja no tipo string\n",
    "    df['Proposta de Referência'] = df['Proposta de Referência'].astype(str)\n",
    "    \n",
    "    # Aplica a alteração de status\n",
    "    df.loc[df['Proposta de Referência'].isin(propostas_aprovada), 'Status da Proposta'] = 'Aprovado'\n",
    "    \n",
    "    # Verifica quantas foram alteradas\n",
    "    aprovadas = df[df['Proposta de Referência'].isin(propostas_aprovada)]\n",
    "    print(f\"✅ df_cf_aba{i}: {len(aprovadas)} propostas marcadas como 'Aprovado'.\")\n"
   ]
  },
  {
   "cell_type": "code",
   "execution_count": 4,
   "id": "20991010",
   "metadata": {
    "execution": {
     "iopub.execute_input": "2025-10-23T20:58:18.217212Z",
     "iopub.status.busy": "2025-10-23T20:58:18.216213Z",
     "iopub.status.idle": "2025-10-23T20:58:18.224722Z",
     "shell.execute_reply": "2025-10-23T20:58:18.224215Z"
    },
    "papermill": {
     "duration": 0.013518,
     "end_time": "2025-10-23T20:58:18.225729",
     "exception": false,
     "start_time": "2025-10-23T20:58:18.212211",
     "status": "completed"
    },
    "tags": []
   },
   "outputs": [
    {
     "name": "stdout",
     "output_type": "stream",
     "text": [
      "✅ df_cf_aba1: 8 propostas marcadas como 'Cancelado'.\n",
      "✅ df_cf_aba2: 13 propostas marcadas como 'Cancelado'.\n",
      "✅ df_cf_aba3: 392 propostas marcadas como 'Cancelado'.\n"
     ]
    }
   ],
   "source": [
    "# Lista de propostas a cancelar\n",
    "propostas_canceladas = [\n",
    "    1086978200012025503,    # PE-RECIFE \n",
    "    8862568600242025502,    # RS-PORTO ALEGRE\n",
    "    2870053000032025501,    # SC-TIMBE DO SUL\n",
    "    2870053000022025502,    # SC-SOMBRIO\n",
    "    2870053000022025503,    # SC-SOMBRIO\n",
    "    4605648700012025501,    # SP-VALINHOS\n",
    "    24712500022025504,      # RJ-NITEROI\n",
    "    353343200012025502,     # CAMPO GRANDE\n",
    "]\n",
    "\n",
    "# Converte os valores da lista para string\n",
    "propostas_canceladas = [str(p) for p in propostas_canceladas]\n",
    "\n",
    "# Atualiza o status nos três DataFrames\n",
    "for i, df in enumerate([df_cf_aba1, df_cf_aba2, df_cf_aba3], start=1):\n",
    "    # Garante que a coluna esteja no tipo string\n",
    "    df['Proposta de Referência'] = df['Proposta de Referência'].astype(str)\n",
    "    \n",
    "    # Aplica a alteração de status\n",
    "    df.loc[df['Proposta de Referência'].isin(propostas_canceladas), 'Status da Proposta'] = 'Cancelado'\n",
    "    \n",
    "    # Verifica quantas foram alteradas\n",
    "    canceladas = df[df['Proposta de Referência'].isin(propostas_canceladas)]\n",
    "    print(f\"✅ df_cf_aba{i}: {len(canceladas)} propostas marcadas como 'Cancelado'.\")\n"
   ]
  },
  {
   "cell_type": "code",
   "execution_count": 5,
   "id": "cfde3232",
   "metadata": {
    "execution": {
     "iopub.execute_input": "2025-10-23T20:58:18.233729Z",
     "iopub.status.busy": "2025-10-23T20:58:18.233729Z",
     "iopub.status.idle": "2025-10-23T20:58:18.237619Z",
     "shell.execute_reply": "2025-10-23T20:58:18.237619Z"
    },
    "papermill": {
     "duration": 0.009899,
     "end_time": "2025-10-23T20:58:18.238625",
     "exception": false,
     "start_time": "2025-10-23T20:58:18.228726",
     "status": "completed"
    },
    "tags": []
   },
   "outputs": [],
   "source": [
    "# conversão modalidade 1\n",
    "\n",
    "for i, df in enumerate([df_m1_aba1, df_m1_aba2, df_m1_aba3], start=1):\n",
    "    # Garante que a coluna esteja no tipo string\n",
    "    df['Proposta de Referência'] = df['Proposta de Referência'].astype(str)\n"
   ]
  },
  {
   "cell_type": "code",
   "execution_count": 6,
   "id": "834c0401",
   "metadata": {
    "execution": {
     "iopub.execute_input": "2025-10-23T20:58:18.246693Z",
     "iopub.status.busy": "2025-10-23T20:58:18.246693Z",
     "iopub.status.idle": "2025-10-23T20:58:18.253930Z",
     "shell.execute_reply": "2025-10-23T20:58:18.253930Z"
    },
    "papermill": {
     "duration": 0.012241,
     "end_time": "2025-10-23T20:58:18.254935",
     "exception": false,
     "start_time": "2025-10-23T20:58:18.242694",
     "status": "completed"
    },
    "tags": []
   },
   "outputs": [],
   "source": [
    "# montando a MATRIZ DE OFERTA - CRÉDITO FINANCEIRO - CIRURGIAS\n",
    "\n",
    "# remover coluna\n",
    "df_cf_aba3.drop(columns='TP_COMPLEXIDADE', inplace=True)\n",
    "\n",
    "\n",
    "# colocar coluna 'entidade'\n",
    "df_cf_aba3 = df_cf_aba3.merge(    df_cf_aba1[['Proposta de Referência', 'Entidade']],                                   \n",
    "    on='Proposta de Referência',\n",
    "    how='left')\n",
    "\n",
    "# alterando nome da colunas\n",
    "df_cf_aba3.rename(columns={\n",
    "    'Entidade': 'ENTIDADE','TX_COMPLEMENTACAO_MAXIMA': '% COMPLEMENTACAO_MAXIMA'                                        \n",
    "}, inplace=True)\n",
    "\n",
    "# reoganizado as colunas\n",
    "df_cf_aba3 = df_cf_aba3[[                                                                                               \n",
    "    'Proposta de Referência',\n",
    "    'Status da Proposta',\n",
    "    'UF',\n",
    "    'Município',\n",
    "    'CNES',\n",
    "    'ENTIDADE',\n",
    "    'CO_PROCEDIMENTO_SIGTAP',\n",
    "    'NO_GRUPO',\n",
    "    'NO_PROCEDIMENTO',\n",
    "    '% COMPLEMENTACAO_MAXIMA',\n",
    "    'VL_TABELA_SUS',\n",
    "    'VL_TOTAL_COMPLEMENTACAO_MAXIMA',\n",
    "    'VL_MEDIA_BRASIL_CALCULADO',\n",
    "    'QT_ATENDIMENTO_MES',\n",
    "    'VL_TOTAL'\n",
    "]]\n"
   ]
  },
  {
   "cell_type": "code",
   "execution_count": 7,
   "id": "29e8ecc6",
   "metadata": {
    "execution": {
     "iopub.execute_input": "2025-10-23T20:58:18.262429Z",
     "iopub.status.busy": "2025-10-23T20:58:18.262429Z",
     "iopub.status.idle": "2025-10-23T20:58:18.270328Z",
     "shell.execute_reply": "2025-10-23T20:58:18.270328Z"
    },
    "papermill": {
     "duration": 0.012261,
     "end_time": "2025-10-23T20:58:18.270328",
     "exception": false,
     "start_time": "2025-10-23T20:58:18.258067",
     "status": "completed"
    },
    "tags": []
   },
   "outputs": [],
   "source": [
    "# montando a MATRIZ DE OFERTA - MODALIDADE 1 - CIRURGIAS\n",
    "\n",
    "# remover coluna\n",
    "df_m1_aba3.drop(columns='TP_COMPLEXIDADE', inplace=True)                                                                \n",
    "\n",
    "# colocar coluna 'entidade'\n",
    "df_m1_aba3 = df_cf_aba3.merge(df_m1_aba1[['Proposta de Referência', 'Entidade']],                                   \n",
    "    on='Proposta de Referência',\n",
    "    how='left')\n",
    "\n",
    "# alterando nome da colunas\n",
    "df_m1_aba3.rename(columns={\n",
    "    'Entidade': 'ENTIDADE','TX_COMPLEMENTACAO_MAXIMA': '% COMPLEMENTACAO_MAXIMA'                                        \n",
    "}, inplace=True)\n",
    "\n",
    "# reoganizado as colunas\n",
    "df_m1_aba3 = df_m1_aba3[[                                                                                               \n",
    "    'Proposta de Referência',\n",
    "    'Status da Proposta',\n",
    "    'UF',\n",
    "    'Município',\n",
    "    'CNES',\n",
    "    'ENTIDADE',\n",
    "    'CO_PROCEDIMENTO_SIGTAP',\n",
    "    'NO_GRUPO',\n",
    "    'NO_PROCEDIMENTO',\n",
    "    '% COMPLEMENTACAO_MAXIMA',\n",
    "    'VL_TABELA_SUS',\n",
    "    'VL_TOTAL_COMPLEMENTACAO_MAXIMA',\n",
    "    'VL_MEDIA_BRASIL_CALCULADO',\n",
    "    'QT_ATENDIMENTO_MES',\n",
    "    'VL_TOTAL'\n",
    "]]"
   ]
  },
  {
   "cell_type": "code",
   "execution_count": null,
   "id": "cd34855f",
   "metadata": {
    "papermill": {
     "duration": 0.005135,
     "end_time": "2025-10-23T20:58:18.280738",
     "exception": false,
     "start_time": "2025-10-23T20:58:18.275603",
     "status": "completed"
    },
    "tags": []
   },
   "outputs": [],
   "source": []
  },
  {
   "cell_type": "code",
   "execution_count": 8,
   "id": "7eb3a264",
   "metadata": {
    "execution": {
     "iopub.execute_input": "2025-10-23T20:58:18.292744Z",
     "iopub.status.busy": "2025-10-23T20:58:18.292744Z",
     "iopub.status.idle": "2025-10-23T20:58:18.300560Z",
     "shell.execute_reply": "2025-10-23T20:58:18.300560Z"
    },
    "papermill": {
     "duration": 0.015823,
     "end_time": "2025-10-23T20:58:18.301564",
     "exception": false,
     "start_time": "2025-10-23T20:58:18.285741",
     "status": "completed"
    },
    "tags": []
   },
   "outputs": [],
   "source": [
    "# montando a MATRIZ DE OFERTA - CRÉDITO FINANCEIRO - OCI\n",
    "\n",
    "# remover coluna\n",
    "df_cf_aba2.drop(columns=['TP_SEXO','NU_IDADE_MINIMA','NU_IDADE_MAXIMA','VL_MEDIA_BRASIL_CALCULADO'], inplace=True)                   \n",
    "\n",
    "\n",
    "# colocar coluna 'entidade'\n",
    "df_cf_aba2 = df_cf_aba2.merge(df_cf_aba1[['Proposta de Referência', 'Entidade']],                        \n",
    "    on='Proposta de Referência',\n",
    "    how='left')\n",
    "\n",
    "# reoganizado as colunas\n",
    "df_cf_aba2= df_cf_aba2[[                                                                                 \n",
    "    'Proposta de Referência',\n",
    "    'Status da Proposta',\n",
    "    'UF',\n",
    "    'Município',\n",
    "    'CNES',\n",
    "    'NU_PROCEDIMENTO',\n",
    "    'NO_GRUPO',\n",
    "    'NO_PROCEIDMENTO',\n",
    "    'DS_PROCEDIMENTO',\n",
    "    'QT_ATENDIMENTO_MES',\n",
    "    'VL_CALCULADO',\n",
    "    'VL_TOTAL'\n",
    "]]\n"
   ]
  },
  {
   "cell_type": "code",
   "execution_count": 9,
   "id": "12eb0a40",
   "metadata": {
    "execution": {
     "iopub.execute_input": "2025-10-23T20:58:18.308277Z",
     "iopub.status.busy": "2025-10-23T20:58:18.308277Z",
     "iopub.status.idle": "2025-10-23T20:58:18.319034Z",
     "shell.execute_reply": "2025-10-23T20:58:18.319034Z"
    },
    "papermill": {
     "duration": 0.011777,
     "end_time": "2025-10-23T20:58:18.319034",
     "exception": false,
     "start_time": "2025-10-23T20:58:18.307257",
     "status": "completed"
    },
    "tags": []
   },
   "outputs": [],
   "source": [
    "# montando a MATRIZ DE OFERTA - MODALIDADE 1 - OCI\n",
    "\n",
    "\n",
    "\n",
    "# Remover colunas desnecessárias\n",
    "df_m1_aba2.drop(columns=['TP_SEXO', 'NU_IDADE_MINIMA', 'NU_IDADE_MAXIMA'], inplace=True)\n",
    "\n",
    "# Criar coluna de valor total\n",
    "df_m1_aba2['VALOR_TOTAL_MES'] = df_m1_aba2['QT_ATENDIMENTO_MES'] * df_m1_aba2['VL_PROCEDIMENTO']\n",
    "\n",
    "# Adicionar coluna 'Entidade' via merge\n",
    "df_m1_aba2 = df_m1_aba2.merge(\n",
    "    df_m1_aba1[['Proposta de Referência', 'Entidade']],\n",
    "    on='Proposta de Referência',\n",
    "    how='left'\n",
    ")\n",
    "\n",
    "# Reorganizar colunas\n",
    "df_m1_aba2 = df_m1_aba2[[\n",
    "    'Proposta de Referência',\n",
    "    'Status da Proposta',\n",
    "    'UF',\n",
    "    'Município',\n",
    "    'CNES',\n",
    "    'NU_PROCEDIMENTO',\n",
    "    'NO_GRUPO',\n",
    "    'NO_PROCEIDMENTO',\n",
    "    'DS_PROCEDIMENTO',\n",
    "    'QT_ATENDIMENTO_MES',\n",
    "    'VL_CALCULADO',\n",
    "    'VL_TOTAL'\n",
    "]]\n",
    "\n"
   ]
  },
  {
   "cell_type": "code",
   "execution_count": 10,
   "id": "8343fa67",
   "metadata": {
    "execution": {
     "iopub.execute_input": "2025-10-23T20:58:18.333996Z",
     "iopub.status.busy": "2025-10-23T20:58:18.332996Z",
     "iopub.status.idle": "2025-10-23T20:58:18.345477Z",
     "shell.execute_reply": "2025-10-23T20:58:18.345477Z"
    },
    "papermill": {
     "duration": 0.019482,
     "end_time": "2025-10-23T20:58:18.346481",
     "exception": false,
     "start_time": "2025-10-23T20:58:18.326999",
     "status": "completed"
    },
    "tags": []
   },
   "outputs": [],
   "source": [
    "# montando a aba SIMPLIFICADA - CRÉDITO FINANCEIRO \n",
    "\n",
    "\n",
    "# copiando a informação da df_cf_aba1\n",
    "df_simp_cc = df_cf_aba1.copy()\n",
    "\n",
    "# Remover colunas desnecessárias\n",
    "df_simp_cc.drop(columns=[\n",
    "    'Dt. Cadastro', 'Dt. Atualização', 'Dívida Aprox.', 'VL_SALDO_DEVEDOR', \n",
    "    'VL_TRIBUTO_FEDERAL_ESTIMADO'], inplace=True)\n",
    "\n",
    "# Converter a coluna VL_TOTAL para numérico (float), tratando erros\n",
    "df_cf_aba3['VL_TOTAL'] = pd.to_numeric(df_cf_aba3['VL_TOTAL'], errors='coerce')\n",
    "\n",
    "# Agrupar df_cf_aba3 por 'Proposta de Referência' e somar 'VALOR_TOTAL_MES' --- CIRURGIAS\n",
    "soma_por_proposta_cc = df_cf_aba3.groupby('Proposta de Referência')['VL_TOTAL'].sum().reset_index()\n",
    "\n",
    "# Renomear a coluna para o nome desejado\n",
    "soma_por_proposta_cc.rename(columns={'VL_TOTAL': 'VL_TOTAL_COMP_CIRUGICO'}, inplace=True)\n",
    "\n",
    "# Fazer o merge com df_simp_cc\n",
    "df_simp_cc = df_simp_cc.merge(soma_por_proposta_cc, on='Proposta de Referência', how='left')\n",
    "\n",
    "\n",
    "# Agrupar df_cf_aba2 por 'Proposta de Referência' e somar 'VALOR_TOTAL_MES' --- OCI\n",
    "soma_por_proposta_co = df_cf_aba2.groupby('Proposta de Referência')['VL_TOTAL'].sum().reset_index()\n",
    "\n",
    "# Renomear a coluna para o nome desejado\n",
    "soma_por_proposta_co.rename(columns={'VL_TOTAL': 'VL_TOTAL_OCI'}, inplace=True)\n",
    "\n",
    "# Fazer o merge com df_simp_cc\n",
    "df_simp_cc = df_simp_cc.merge(soma_por_proposta_co, on='Proposta de Referência', how='left')"
   ]
  },
  {
   "cell_type": "code",
   "execution_count": 11,
   "id": "da3f0b27",
   "metadata": {
    "execution": {
     "iopub.execute_input": "2025-10-23T20:58:18.358366Z",
     "iopub.status.busy": "2025-10-23T20:58:18.357256Z",
     "iopub.status.idle": "2025-10-23T20:58:18.362272Z",
     "shell.execute_reply": "2025-10-23T20:58:18.362272Z"
    },
    "papermill": {
     "duration": 0.011276,
     "end_time": "2025-10-23T20:58:18.363757",
     "exception": false,
     "start_time": "2025-10-23T20:58:18.352481",
     "status": "completed"
    },
    "tags": []
   },
   "outputs": [],
   "source": [
    "# nova coluna de total COMP + OCI\n",
    "df_simp_cc['VL_TOTAL_COMP_CIRUGICO'].fillna(0, inplace=True)\n",
    "df_simp_cc['VL_TOTAL_OCI'].fillna(0, inplace=True)\n",
    "df_simp_cc['VALOR_TOTAL_MES_COMP+OCI'] = df_simp_cc['VL_TOTAL_COMP_CIRUGICO'] + df_simp_cc['VL_TOTAL_OCI']\n",
    "df_simp_cc['VALOR_TOTAL_ANO_COMP+OCI']= df_simp_cc['VALOR_TOTAL_MES_COMP+OCI']*12\n"
   ]
  },
  {
   "cell_type": "code",
   "execution_count": 12,
   "id": "69e32ddc",
   "metadata": {
    "execution": {
     "iopub.execute_input": "2025-10-23T20:58:18.375594Z",
     "iopub.status.busy": "2025-10-23T20:58:18.375594Z",
     "iopub.status.idle": "2025-10-23T20:58:18.379024Z",
     "shell.execute_reply": "2025-10-23T20:58:18.379024Z"
    },
    "papermill": {
     "duration": 0.016282,
     "end_time": "2025-10-23T20:58:18.380039",
     "exception": false,
     "start_time": "2025-10-23T20:58:18.363757",
     "status": "completed"
    },
    "tags": []
   },
   "outputs": [
    {
     "name": "stdout",
     "output_type": "stream",
     "text": [
      "Index(['Proposta de Referência', 'Status da Proposta', 'UF', 'Município',\n",
      "       'CNES', 'NU_PROCEDIMENTO', 'NO_GRUPO', 'NO_PROCEIDMENTO',\n",
      "       'DS_PROCEDIMENTO', 'QT_ATENDIMENTO_MES', 'VL_CALCULADO', 'VL_TOTAL'],\n",
      "      dtype='object')\n"
     ]
    }
   ],
   "source": [
    "print(df_m1_aba2.columns)\n"
   ]
  },
  {
   "cell_type": "code",
   "execution_count": 13,
   "id": "6ce8bcc7",
   "metadata": {
    "execution": {
     "iopub.execute_input": "2025-10-23T20:58:18.391709Z",
     "iopub.status.busy": "2025-10-23T20:58:18.391709Z",
     "iopub.status.idle": "2025-10-23T20:58:18.403602Z",
     "shell.execute_reply": "2025-10-23T20:58:18.403602Z"
    },
    "papermill": {
     "duration": 0.019578,
     "end_time": "2025-10-23T20:58:18.405612",
     "exception": false,
     "start_time": "2025-10-23T20:58:18.386034",
     "status": "completed"
    },
    "tags": []
   },
   "outputs": [],
   "source": [
    "# Montando a aba SIMPLIFICADA - MODALIDADE 1\n",
    "\n",
    "# Copiar os dados da aba 1\n",
    "df_simp_m1 = df_m1_aba1.copy()\n",
    "\n",
    "# Remover colunas desnecessárias\n",
    "df_simp_m1.drop(columns=['Dt. Cadastro', 'Dt. Atualização'], inplace=True)\n",
    "\n",
    "# Converter a coluna VL_TOTAL de df_m1_aba3 para numérico\n",
    "df_m1_aba3['VL_TOTAL'] = pd.to_numeric(df_m1_aba3['VL_TOTAL'], errors='coerce')\n",
    "\n",
    "# Agrupar df_m1_aba3 por 'Proposta de Referência' e somar VL_TOTAL (CIRURGIAS)\n",
    "soma_por_proposta_mc = df_m1_aba3.groupby('Proposta de Referência')['VL_TOTAL'].sum().reset_index()\n",
    "soma_por_proposta_mc.rename(columns={'VL_TOTAL': 'VL_TOTAL_COMP_CIRUGICO'}, inplace=True)\n",
    "\n",
    "# Merge com df_simp_m1\n",
    "df_simp_m1 = df_simp_m1.merge(soma_por_proposta_mc, on='Proposta de Referência', how='left')\n",
    "\n",
    "# Converter a coluna VL_TOTAL de df_m1_aba2 para numérico (caso necessário)\n",
    "df_m1_aba2['VL_TOTAL'] = pd.to_numeric(df_m1_aba2['VL_TOTAL'], errors='coerce')\n",
    "\n",
    "# Agrupar df_m1_aba2 por 'Proposta de Referência' e somar VL_TOTAL (OCI)\n",
    "soma_por_proposta_mo = df_m1_aba2.groupby('Proposta de Referência')['VL_TOTAL'].sum().reset_index()\n",
    "soma_por_proposta_mo.rename(columns={'VL_TOTAL': 'VL_TOTAL_OCI'}, inplace=True)\n",
    "\n",
    "# Merge final com df_simp_m1\n",
    "df_simp_m1 = df_simp_m1.merge(soma_por_proposta_mo, on='Proposta de Referência', how='left')\n"
   ]
  },
  {
   "cell_type": "code",
   "execution_count": 14,
   "id": "4d8e44b6",
   "metadata": {
    "execution": {
     "iopub.execute_input": "2025-10-23T20:58:18.413902Z",
     "iopub.status.busy": "2025-10-23T20:58:18.413902Z",
     "iopub.status.idle": "2025-10-23T20:58:18.420960Z",
     "shell.execute_reply": "2025-10-23T20:58:18.420960Z"
    },
    "papermill": {
     "duration": 0.010573,
     "end_time": "2025-10-23T20:58:18.420960",
     "exception": false,
     "start_time": "2025-10-23T20:58:18.410387",
     "status": "completed"
    },
    "tags": []
   },
   "outputs": [],
   "source": [
    "# nova coluna de total COMP + OCI\n",
    "df_simp_m1['VL_TOTAL_COMP_CIRUGICO'].fillna(0, inplace=True)\n",
    "df_simp_m1['VL_TOTAL_OCI'].fillna(0, inplace=True)\n",
    "df_simp_m1['VALOR_TOTAL_MES_COMP+OCI'] = df_simp_m1['VL_TOTAL_COMP_CIRUGICO'] + df_simp_m1['VL_TOTAL_OCI']\n",
    "df_simp_m1['VALOR_TOTAL_ANO_COMP+OCI']= df_simp_m1['VALOR_TOTAL_MES_COMP+OCI']*12"
   ]
  },
  {
   "cell_type": "markdown",
   "id": "d403aa80",
   "metadata": {
    "papermill": {
     "duration": 0.004003,
     "end_time": "2025-10-23T20:58:18.431993",
     "exception": false,
     "start_time": "2025-10-23T20:58:18.427990",
     "status": "completed"
    },
    "tags": []
   },
   "source": [
    "# TERCEIRA PARTE, Carregar os dataFrame para a tabela MODELO"
   ]
  },
  {
   "cell_type": "code",
   "execution_count": 15,
   "id": "37dee1ce",
   "metadata": {
    "execution": {
     "iopub.execute_input": "2025-10-23T20:58:18.443728Z",
     "iopub.status.busy": "2025-10-23T20:58:18.443728Z",
     "iopub.status.idle": "2025-10-23T20:58:23.118626Z",
     "shell.execute_reply": "2025-10-23T20:58:23.118626Z"
    },
    "papermill": {
     "duration": 4.680636,
     "end_time": "2025-10-23T20:58:23.118626",
     "exception": false,
     "start_time": "2025-10-23T20:58:18.437990",
     "status": "completed"
    },
    "tags": []
   },
   "outputs": [
    {
     "name": "stdout",
     "output_type": "stream",
     "text": [
      "📂 Arquivo modelo carregado.\n",
      "✅ Aba 'CREDITO_FINANCEIRO' atualizada com 183 linhas.\n",
      "✅ Aba 'M_OFERTA_CF_OCI' atualizada com 383 linhas.\n",
      "✅ Aba 'M_OFERTA_CF_CC' atualizada com 2729 linhas.\n",
      "✅ Aba 'SIMP_CF' atualizada com 183 linhas.\n",
      "✅ Aba 'MODALIDADE_1' atualizada com 124 linhas.\n",
      "✅ Aba 'M_OFERTA_M1_OCI' atualizada com 585 linhas.\n",
      "✅ Aba 'M_OFERTA_M1_CC' atualizada com 2729 linhas.\n",
      "✅ Aba 'SIMP_M1' atualizada com 124 linhas.\n",
      "\n",
      "🛠 Atualizando aba 'INFO'...\n",
      "   -> Aba 'INFO' atualizada (H2: Data/Hora, G1: BR).\n"
     ]
    },
    {
     "name": "stdout",
     "output_type": "stream",
     "text": [
      "\n",
      "-----------------------------------------------------------------\n",
      "🎉 Sucesso! O novo arquivo 'saida\\20251023_MONITORAMENTO DE COMPONENTE.xlsx' foi criado.\n",
      "   As abas 'VISÃO_GERAL' e 'VISÃO_GERAL_M1' devem ter sido recalculadas pelo Excel.\n",
      "-----------------------------------------------------------------\n"
     ]
    }
   ],
   "source": [
    "import os\n",
    "import pandas as pd\n",
    "import openpyxl\n",
    "from openpyxl.utils.dataframe import dataframe_to_rows\n",
    "from datetime import datetime\n",
    "\n",
    "# Diretórios e arquivos\n",
    "MODELO_FILENAME = \"MONITORAMENTO DE COMPONENTE.xlsx\"\n",
    "MODELO_DIR = os.path.join(os.getcwd(), \"model\")\n",
    "MODELO_PATH = os.path.join(MODELO_DIR, MODELO_FILENAME)\n",
    "\n",
    "# Mapeamento dos arquivos para as abas\n",
    "MAPPING = {\n",
    "    \"df_cf_aba1\": \"CREDITO_FINANCEIRO\",\n",
    "    \"df_cf_aba2\": \"M_OFERTA_CF_OCI\",\n",
    "    \"df_cf_aba3\": \"M_OFERTA_CF_CC\",\n",
    "    \"df_simp_cc\": \"SIMP_CF\",\n",
    "    \"df_m1_aba1\": \"MODALIDADE_1\",\n",
    "    \"df_m1_aba2\": \"M_OFERTA_M1_OCI\",\n",
    "    \"df_m1_aba3\": \"M_OFERTA_M1_CC\",\n",
    "    \"df_simp_m1\": \"SIMP_M1\",\n",
    "}\n",
    "\n",
    "# Função para sobrescrever a aba a partir da linha 3\n",
    "def sobrescrever_aba(workbook, aba_nome, df):\n",
    "    if aba_nome in workbook.sheetnames:\n",
    "        ws = workbook[aba_nome]\n",
    "        for i, row in enumerate(dataframe_to_rows(df, index=False, header=False), start=3):\n",
    "            for j, value in enumerate(row, start=1):\n",
    "                ws.cell(row=i, column=j, value=value)\n",
    "        print(f\"✅ Aba '{aba_nome}' atualizada com {len(df)} linhas.\")\n",
    "    else:\n",
    "        print(f\"⚠️ Aba '{aba_nome}' não encontrada no modelo.\")\n",
    "\n",
    "# Função para carregar os DataFrames (simplesmente acessa variáveis globais)\n",
    "def carregar_dados_do_excel(nome_df):\n",
    "    try:\n",
    "        return globals()[nome_df]\n",
    "    except KeyError:\n",
    "        print(f\"⚠️ DataFrame '{nome_df}' não está definido.\")\n",
    "        return None\n",
    "\n",
    "# Execução principal\n",
    "if not os.path.exists(MODELO_PATH):\n",
    "    print(f\"❌ Erro: O arquivo modelo esperado '{MODELO_FILENAME}' não foi encontrado em '{MODELO_DIR}'.\")\n",
    "    print(\"Verifique se o caminho do arquivo modelo está correto.\")\n",
    "else:\n",
    "    try:\n",
    "        modelo_wb = openpyxl.load_workbook(MODELO_PATH)\n",
    "        print(\"📂 Arquivo modelo carregado.\")\n",
    "\n",
    "        # Atualizar abas conforme mapeamento\n",
    "        for df_nome, aba_nome in MAPPING.items():\n",
    "            df = carregar_dados_do_excel(df_nome)\n",
    "            if df is not None:\n",
    "                sobrescrever_aba(modelo_wb, aba_nome, df)\n",
    "\n",
    "        # Atualizar aba INFO\n",
    "        print(\"\\n🛠 Atualizando aba 'INFO'...\")\n",
    "        sigla_uf = \"BR\"\n",
    "\n",
    "        if 'INFO' in modelo_wb.sheetnames:\n",
    "            aba_info = modelo_wb['INFO']\n",
    "            aba_info['H2'] = datetime.now().strftime('%d/%m/%Y %H:%M')\n",
    "            aba_info['G1'] = sigla_uf\n",
    "            print(f\"   -> Aba 'INFO' atualizada (H2: Data/Hora, G1: {sigla_uf}).\")\n",
    "        else:\n",
    "            print(\"   ⚠️ Aba 'INFO' não encontrada no arquivo modelo.\")\n",
    "\n",
    "        # Salvar novo arquivo\n",
    "        os.makedirs(\"saida\", exist_ok=True)\n",
    "        novo_nome = os.path.join(\"saida\", f\"{datetime.today().strftime('%Y%m%d')}_{MODELO_FILENAME}\")\n",
    "        modelo_wb.save(novo_nome)\n",
    "\n",
    "        print(\"\\n-----------------------------------------------------------------\")\n",
    "        print(f\"🎉 Sucesso! O novo arquivo '{novo_nome}' foi criado.\")\n",
    "        print(\"   As abas 'VISÃO_GERAL' e 'VISÃO_GERAL_M1' devem ter sido recalculadas pelo Excel.\")\n",
    "        print(\"-----------------------------------------------------------------\")\n",
    "\n",
    "    except Exception as e:\n",
    "        print(f\"❌ Erro fatal durante a execução: {e}\")\n"
   ]
  },
  {
   "cell_type": "code",
   "execution_count": 16,
   "id": "cc063f2a",
   "metadata": {
    "execution": {
     "iopub.execute_input": "2025-10-23T20:58:23.128198Z",
     "iopub.status.busy": "2025-10-23T20:58:23.128198Z",
     "iopub.status.idle": "2025-10-23T20:58:23.131675Z",
     "shell.execute_reply": "2025-10-23T20:58:23.131675Z"
    },
    "papermill": {
     "duration": 0.008679,
     "end_time": "2025-10-23T20:58:23.132684",
     "exception": false,
     "start_time": "2025-10-23T20:58:23.124005",
     "status": "completed"
    },
    "tags": []
   },
   "outputs": [],
   "source": [
    "# Caminho da pasta Downloads\n",
    "pasta = os.path.expanduser(\"~/Downloads\")\n",
    "\n",
    "# Percorre todos os arquivos na pasta\n",
    "for arquivo in os.listdir(pasta):\n",
    "    caminho_arquivo = os.path.join(pasta, arquivo)\n",
    "    if os.path.isfile(caminho_arquivo):\n",
    "        os.remove(caminho_arquivo)\n"
   ]
  },
  {
   "cell_type": "code",
   "execution_count": 17,
   "id": "0b174ef5",
   "metadata": {
    "execution": {
     "iopub.execute_input": "2025-10-23T20:58:23.139681Z",
     "iopub.status.busy": "2025-10-23T20:58:23.139681Z",
     "iopub.status.idle": "2025-10-23T20:58:23.144038Z",
     "shell.execute_reply": "2025-10-23T20:58:23.144038Z"
    },
    "papermill": {
     "duration": 0.009365,
     "end_time": "2025-10-23T20:58:23.145047",
     "exception": false,
     "start_time": "2025-10-23T20:58:23.135682",
     "status": "completed"
    },
    "tags": []
   },
   "outputs": [
    {
     "name": "stdout",
     "output_type": "stream",
     "text": [
      "✅ Tempo total de execução: 0h 1min 8s\n"
     ]
    }
   ],
   "source": [
    "fim = datetime.now()\n",
    "tempo_total = fim - inicio\n",
    "\n",
    "horas, resto = divmod(tempo_total.total_seconds(), 3600)\n",
    "minutos, segundos = divmod(resto, 60)\n",
    "\n",
    "print(f\"✅ Tempo total de execução: {int(horas)}h {int(minutos)}min {int(segundos)}s\")"
   ]
  }
 ],
 "metadata": {
  "kernelspec": {
   "display_name": ".venv",
   "language": "python",
   "name": "python3"
  },
  "language_info": {
   "codemirror_mode": {
    "name": "ipython",
    "version": 3
   },
   "file_extension": ".py",
   "mimetype": "text/x-python",
   "name": "python",
   "nbconvert_exporter": "python",
   "pygments_lexer": "ipython3",
   "version": "3.11.9"
  },
  "papermill": {
   "default_parameters": {},
   "duration": 70.810437,
   "end_time": "2025-10-23T20:58:23.726329",
   "environment_variables": {},
   "exception": null,
   "input_path": "credito_modalidade.ipynb",
   "output_path": "credito_modalidade.ipynb",
   "parameters": {},
   "start_time": "2025-10-23T20:57:12.915892",
   "version": "2.6.0"
  }
 },
 "nbformat": 4,
 "nbformat_minor": 5
}
