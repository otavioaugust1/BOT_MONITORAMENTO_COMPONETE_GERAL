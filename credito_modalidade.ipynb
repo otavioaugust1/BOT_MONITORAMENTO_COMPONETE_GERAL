{
 "cells": [
  {
   "cell_type": "markdown",
   "id": "cb2205ef",
   "metadata": {
    "papermill": {
     "duration": 0.003505,
     "end_time": "2025-10-30T18:00:07.048199",
     "exception": false,
     "start_time": "2025-10-30T18:00:07.044694",
     "status": "completed"
    },
    "tags": []
   },
   "source": [
    "# PRIMEIRA PARTE - downloads manual dos arquivos do INVESTSUS"
   ]
  },
  {
   "cell_type": "code",
   "execution_count": 1,
   "id": "4644f7ef",
   "metadata": {
    "execution": {
     "iopub.execute_input": "2025-10-30T18:00:07.059231Z",
     "iopub.status.busy": "2025-10-30T18:00:07.059231Z",
     "iopub.status.idle": "2025-10-30T18:01:11.188181Z",
     "shell.execute_reply": "2025-10-30T18:01:11.188181Z"
    },
    "papermill": {
     "duration": 64.135986,
     "end_time": "2025-10-30T18:01:11.189702",
     "exception": false,
     "start_time": "2025-10-30T18:00:07.053716",
     "status": "completed"
    },
    "tags": []
   },
   "outputs": [
    {
     "name": "stdout",
     "output_type": "stream",
     "text": [
      "🔵 Início da execução: 09:25:28\n",
      "📁 Diretório de downloads configurado: c:\\GitHUB\\BOT_MONITORAMENTO_COMPONETE_GERAL\\downloads\n",
      "🚀 Navegador Edge iniciado com sucesso.\n",
      "🌐 Página acessada: https://investsuspaineis.saude.gov.br/extensions/CGIN_PMAE/CGIN_PMAE.html#\n",
      "📂 Acessando aba: Crédito Financeiro\n",
      "📥 Iniciando download para: credito_financeiro_aba1.xlsx\n",
      "📦 Arquivo renomeado para: credito_financeiro_aba1.xlsx\n",
      "\n",
      "📥 Iniciando download para: credito_financeiro_aba2.xlsx\n",
      "📦 Arquivo renomeado para: credito_financeiro_aba2.xlsx\n",
      "\n",
      "📥 Iniciando download para: credito_financeiro_aba3.xlsx\n",
      "📦 Arquivo renomeado para: credito_financeiro_aba3.xlsx\n",
      "\n",
      "📂 Acessando aba: Modalidade 1\n",
      "📥 Iniciando download para: modalidade_1_aba1.xlsx\n",
      "📦 Arquivo renomeado para: modalidade_1_aba1.xlsx\n",
      "\n",
      "📥 Iniciando download para: modalidade_1_aba2.xlsx\n",
      "📦 Arquivo renomeado para: modalidade_1_aba2.xlsx\n",
      "\n",
      "📥 Iniciando download para: modalidade_1_aba3.xlsx\n",
      "📦 Arquivo renomeado para: modalidade_1_aba3.xlsx\n",
      "\n"
     ]
    }
   ],
   "source": [
    "# 📚 BIBLIOTECAS\n",
    "import os\n",
    "import time\n",
    "import warnings\n",
    "from datetime import datetime\n",
    "from selenium import webdriver\n",
    "from selenium.webdriver.common.by import By\n",
    "from selenium.webdriver.support.ui import WebDriverWait\n",
    "from selenium.webdriver.support import expected_conditions as EC\n",
    "from selenium.webdriver.edge.service import Service\n",
    "from selenium.webdriver.edge.options import Options\n",
    "\n",
    "# 🔕 Oculta alertas\n",
    "warnings.filterwarnings('ignore')\n",
    "\n",
    "# Contagem de TEMPO de processamento\n",
    "inicio = datetime.now()\n",
    "print(f\"🔵 Início da execução: {inicio.strftime('%H:%M:%S')}\")\n",
    "\n",
    "# 📁 Diretório de downloads\n",
    "DOWNLOAD_DIR = os.path.join(os.getcwd(), \"downloads\")\n",
    "os.makedirs(DOWNLOAD_DIR, exist_ok=True)\n",
    "print(f\"📁 Diretório de downloads configurado: {DOWNLOAD_DIR}\")\n",
    "\n",
    "# ⚙️ Configuração do Edge\n",
    "driver_path = os.path.join(os.getcwd(), \"web\", \"msedgedriver.exe\")\n",
    "service = Service(executable_path=driver_path)\n",
    "edge_options = Options()\n",
    "\n",
    "# Configura o modo headless (invisível)\n",
    "edge_options.add_argument(\"--headless\")             # Executa sem abrir a janela\n",
    "edge_options.add_argument(\"--disable-gpu\")          # Evita problemas gráficos\n",
    "edge_options.add_argument(\"--window-size=1920,1080\")  # Define tamanho da janela virtual\n",
    "\n",
    "# Configurações de download\n",
    "edge_options.add_experimental_option(\"prefs\", {\n",
    "    \"download.default_directory\": DOWNLOAD_DIR,\n",
    "    \"download.prompt_for_download\": False,\n",
    "    \"directory_upgrade\": True,\n",
    "    \"safebrowsing.enabled\": True\n",
    "})\n",
    "\n",
    "# 🚀 Inicializa o navegador com as opções já configuradas\n",
    "driver = webdriver.Edge(service=service, options=edge_options)\n",
    "\n",
    "wait = WebDriverWait(driver, 20)\n",
    "print(\"🚀 Navegador Edge iniciado com sucesso.\")\n",
    "\n",
    "# Configura o modo headless\n",
    "edge_options.add_argument(\"--headless\")  # Executa sem abrir a janela\n",
    "edge_options.add_argument(\"--disable-gpu\")  # Evita problemas gráficos\n",
    "edge_options.add_argument(\"--window-size=1920,1080\")  # Define tamanho da janela virtual\n",
    "\n",
    "\n",
    "# 🌐 Acessa a página alvo\n",
    "url = \"https://investsuspaineis.saude.gov.br/extensions/CGIN_PMAE/CGIN_PMAE.html#\"\n",
    "driver.get(url)\n",
    "print(f\"🌐 Página acessada: {url}\")\n",
    "time.sleep(5)\n",
    "\n",
    "# 🔁 Função para baixar e renomear arquivos\n",
    "def baixar_e_renomear(xpath_botao, nome_destino):\n",
    "    print(f\"📥 Iniciando download para: {nome_destino}\")\n",
    "    \n",
    "    # Clica no botão de download\n",
    "    botao = wait.until(EC.element_to_be_clickable((By.XPATH, xpath_botao)))\n",
    "    botao.click()\n",
    "    time.sleep(2)\n",
    "\n",
    "    # Aceita o alerta\n",
    "    WebDriverWait(driver, 10).until(EC.alert_is_present())\n",
    "    alerta = driver.switch_to.alert\n",
    "    alerta.accept()\n",
    "\n",
    "    # Aguarda o download finalizar\n",
    "    time.sleep(5)\n",
    "\n",
    "    # Renomeia o arquivo mais recente .xlsx\n",
    "    arquivos_xlsx = [os.path.join(DOWNLOAD_DIR, f) for f in os.listdir(DOWNLOAD_DIR) if f.endswith(\".xlsx\")]\n",
    "    arquivo_mais_recente = max(arquivos_xlsx, key=os.path.getctime)\n",
    "    caminho_novo = os.path.join(DOWNLOAD_DIR, nome_destino)\n",
    "\n",
    "    # Se já existir um arquivo com o nome de destino, exclui\n",
    "    if os.path.exists(caminho_novo):\n",
    "        os.remove(caminho_novo)\n",
    "\n",
    "    # Renomeia o novo arquivo\n",
    "    os.rename(arquivo_mais_recente, caminho_novo)\n",
    "    print(f\"📦 Arquivo renomeado para: {nome_destino}\\n\")\n",
    "\n",
    "\n",
    "# 📊 Aba Crédito\n",
    "print(\"📂 Acessando aba: Crédito Financeiro\")\n",
    "aba_credito = wait.until(EC.element_to_be_clickable((By.XPATH,'//*[@id=\"menu_abas\"]/a[3]')))\n",
    "aba_credito.click()\n",
    "time.sleep(5)\n",
    "\n",
    "baixar_e_renomear('//*[@id=\"QV3-02574e8688-0e17-49d8-8ca9-c037abb4a5f7\"]', \"credito_financeiro_aba1.xlsx\")\n",
    "baixar_e_renomear('//*[@id=\"QV3-03a27c0e0b-cac7-45c5-92c1-ec1cb34f3828\"]', \"credito_financeiro_aba2.xlsx\")\n",
    "baixar_e_renomear('//*[@id=\"QV3-04541ab7f8-9dda-4cbd-82cf-72840cb4ac2d\"]', \"credito_financeiro_aba3.xlsx\")\n",
    "\n",
    "# 📊 Aba Modalidade 1\n",
    "print(\"📂 Acessando aba: Modalidade 1\")\n",
    "aba_modalidade = wait.until(EC.element_to_be_clickable((By.XPATH,'//*[@id=\"menu_abas\"]/a[4]')))\n",
    "aba_modalidade.click()\n",
    "time.sleep(5)\n",
    "\n",
    "baixar_e_renomear('//*[@id=\"QV4-02yfhvCp\"]', \"modalidade_1_aba1.xlsx\")\n",
    "baixar_e_renomear('//*[@id=\"QV4-03JQRjW\"]', \"modalidade_1_aba2.xlsx\")\n",
    "baixar_e_renomear('//*[@id=\"QV4-04gvqxmPC\"]', \"modalidade_1_aba3.xlsx\")\n",
    "\n",
    "driver.quit()\n"
   ]
  },
  {
   "cell_type": "markdown",
   "id": "c3eee1fd",
   "metadata": {
    "papermill": {
     "duration": 0.004001,
     "end_time": "2025-10-30T18:01:11.197714",
     "exception": false,
     "start_time": "2025-10-30T18:01:11.193713",
     "status": "completed"
    },
    "tags": []
   },
   "source": [
    "# SEGUNDA PARTE, REALIZAR TRATAMENTO DOS DADOS."
   ]
  },
  {
   "cell_type": "code",
   "execution_count": 2,
   "id": "908e8c05",
   "metadata": {
    "execution": {
     "iopub.execute_input": "2025-10-30T18:01:11.206229Z",
     "iopub.status.busy": "2025-10-30T18:01:11.206229Z",
     "iopub.status.idle": "2025-10-30T18:01:14.284726Z",
     "shell.execute_reply": "2025-10-30T18:01:14.284726Z"
    },
    "papermill": {
     "duration": 3.084501,
     "end_time": "2025-10-30T18:01:14.285730",
     "exception": false,
     "start_time": "2025-10-30T18:01:11.201229",
     "status": "completed"
    },
    "tags": []
   },
   "outputs": [],
   "source": [
    "\n",
    "import pandas as pd\n",
    "import numpy as np\n",
    "# Ajusta a opção de exibição para mostrar todas as colunas\n",
    "pd.set_option('display.max_columns', None)\n",
    "\n",
    "\n",
    "# Créditos financeiros\n",
    "df_cf_aba1 = pd.read_excel(\"downloads/credito_financeiro_aba1.xlsx\")\n",
    "df_cf_aba2 = pd.read_excel(\"downloads/credito_financeiro_aba2.xlsx\")\n",
    "df_cf_aba3 = pd.read_excel(\"downloads/credito_financeiro_aba3.xlsx\")\n",
    "\n",
    "# Modalidade 1\n",
    "df_m1_aba1 = pd.read_excel(\"downloads/modalidade_1_aba1.xlsx\")\n",
    "df_m1_aba2 = pd.read_excel(\"downloads/modalidade_1_aba2.xlsx\")\n",
    "df_m1_aba3 = pd.read_excel(\"downloads/modalidade_1_aba3.xlsx\")\n"
   ]
  },
  {
   "cell_type": "code",
   "execution_count": 3,
   "id": "9466a305",
   "metadata": {
    "execution": {
     "iopub.execute_input": "2025-10-30T18:01:14.298241Z",
     "iopub.status.busy": "2025-10-30T18:01:14.297240Z",
     "iopub.status.idle": "2025-10-30T18:01:14.311227Z",
     "shell.execute_reply": "2025-10-30T18:01:14.311227Z"
    },
    "papermill": {
     "duration": 0.019993,
     "end_time": "2025-10-30T18:01:14.312233",
     "exception": false,
     "start_time": "2025-10-30T18:01:14.292240",
     "status": "completed"
    },
    "tags": []
   },
   "outputs": [
    {
     "name": "stdout",
     "output_type": "stream",
     "text": [
      "✅ df_cf_aba1: 1 propostas marcadas como 'Aprovado'.\n",
      "✅ df_cf_aba2: 0 propostas marcadas como 'Aprovado'.\n",
      "✅ df_cf_aba3: 25 propostas marcadas como 'Aprovado'.\n"
     ]
    }
   ],
   "source": [
    "# Lista de propostas a aprovar\n",
    "propostas_aprovada = [\n",
    "    781831300012025501   # APROVAÇÃO DE SOBRAL (MANUALMENTE)\n",
    "]\n",
    "\n",
    "# Converte os valores da lista para string\n",
    "propostas_aprovada = [str(p) for p in propostas_aprovada]\n",
    "\n",
    "# Atualiza o status nos três DataFrames\n",
    "for i, df in enumerate([df_cf_aba1, df_cf_aba2, df_cf_aba3], start=1):\n",
    "    # Garante que a coluna esteja no tipo string\n",
    "    df['Proposta de Referência'] = df['Proposta de Referência'].astype(str)\n",
    "    \n",
    "    # Aplica a alteração de status\n",
    "    df.loc[df['Proposta de Referência'].isin(propostas_aprovada), 'Status da Proposta'] = 'Aprovado'\n",
    "    \n",
    "    # Verifica quantas foram alteradas\n",
    "    aprovadas = df[df['Proposta de Referência'].isin(propostas_aprovada)]\n",
    "    print(f\"✅ df_cf_aba{i}: {len(aprovadas)} propostas marcadas como 'Aprovado'.\")\n"
   ]
  },
  {
   "cell_type": "code",
   "execution_count": 4,
   "id": "20991010",
   "metadata": {
    "execution": {
     "iopub.execute_input": "2025-10-30T18:01:14.321241Z",
     "iopub.status.busy": "2025-10-30T18:01:14.320240Z",
     "iopub.status.idle": "2025-10-30T18:01:14.328238Z",
     "shell.execute_reply": "2025-10-30T18:01:14.328238Z"
    },
    "papermill": {
     "duration": 0.013554,
     "end_time": "2025-10-30T18:01:14.329787",
     "exception": false,
     "start_time": "2025-10-30T18:01:14.316233",
     "status": "completed"
    },
    "tags": []
   },
   "outputs": [
    {
     "name": "stdout",
     "output_type": "stream",
     "text": [
      "✅ df_cf_aba1: 8 propostas marcadas como 'Cancelado'.\n",
      "✅ df_cf_aba2: 13 propostas marcadas como 'Cancelado'.\n",
      "✅ df_cf_aba3: 392 propostas marcadas como 'Cancelado'.\n"
     ]
    }
   ],
   "source": [
    "# Lista de propostas a cancelar\n",
    "propostas_canceladas = [\n",
    "    1086978200012025503,    # PE-RECIFE \n",
    "    8862568600242025502,    # RS-PORTO ALEGRE\n",
    "    2870053000032025501,    # SC-TIMBE DO SUL\n",
    "    2870053000022025502,    # SC-SOMBRIO\n",
    "    2870053000022025503,    # SC-SOMBRIO\n",
    "    4605648700012025501,    # SP-VALINHOS\n",
    "    24712500022025504,      # RJ-NITEROI\n",
    "    353343200012025502,     # CAMPO GRANDE\n",
    "]\n",
    "\n",
    "# Converte os valores da lista para string\n",
    "propostas_canceladas = [str(p) for p in propostas_canceladas]\n",
    "\n",
    "# Atualiza o status nos três DataFrames\n",
    "for i, df in enumerate([df_cf_aba1, df_cf_aba2, df_cf_aba3], start=1):\n",
    "    # Garante que a coluna esteja no tipo string\n",
    "    df['Proposta de Referência'] = df['Proposta de Referência'].astype(str)\n",
    "    \n",
    "    # Aplica a alteração de status\n",
    "    df.loc[df['Proposta de Referência'].isin(propostas_canceladas), 'Status da Proposta'] = 'Cancelado'\n",
    "    \n",
    "    # Verifica quantas foram alteradas\n",
    "    canceladas = df[df['Proposta de Referência'].isin(propostas_canceladas)]\n",
    "    print(f\"✅ df_cf_aba{i}: {len(canceladas)} propostas marcadas como 'Cancelado'.\")\n"
   ]
  },
  {
   "cell_type": "code",
   "execution_count": 5,
   "id": "f55f8739",
   "metadata": {
    "execution": {
     "iopub.execute_input": "2025-10-30T18:01:14.337795Z",
     "iopub.status.busy": "2025-10-30T18:01:14.337795Z",
     "iopub.status.idle": "2025-10-30T18:01:14.352033Z",
     "shell.execute_reply": "2025-10-30T18:01:14.352033Z"
    },
    "papermill": {
     "duration": 0.019647,
     "end_time": "2025-10-30T18:01:14.353439",
     "exception": false,
     "start_time": "2025-10-30T18:01:14.333792",
     "status": "completed"
    },
    "tags": []
   },
   "outputs": [],
   "source": [
    "# Mapeamento CNPJ → CNES\n",
    "CNPJ_CNES = {\n",
    "    5048983000150: 3151700,\n",
    "    85514370000108: 3021238,\n",
    "    80906639000170: 4055748,\n",
    "    5089379000171: 2415739,\n",
    "    1273401000188: 3025020,\n",
    "    45184066000117: 3042529,\n",
    "    72551799000115: 2080281,\n",
    "    9407153000122: 6012302\n",
    "}\n",
    "\n",
    "# DataFrames com CNPJ\n",
    "df_com_cnpj = [df_cf_aba1, df_m1_aba1]\n",
    "\n",
    "# Atualizar CNES apenas onde CNPJ está no dicionário\n",
    "for df in df_com_cnpj:\n",
    "    df['CNPJ'] = df['CNPJ'].astype(int)\n",
    "    df['CNES'] = np.where(\n",
    "        df['CNPJ'].isin(CNPJ_CNES),\n",
    "        df['CNPJ'].map(CNPJ_CNES),\n",
    "        df['CNES']\n",
    "    ).astype('object')\n",
    "\n",
    "# Criar dicionário Proposta → CNES a partir dos DataFrames atualizados\n",
    "proposta_cnes_map = pd.concat(df_com_cnpj)[['Proposta de Referência', 'CNES']].dropna()\n",
    "proposta_cnes_dict = dict(zip(proposta_cnes_map['Proposta de Referência'], proposta_cnes_map['CNES']))\n",
    "\n",
    "# DataFrames sem CNPJ\n",
    "df_sem_cnpj = [df_cf_aba2, df_cf_aba3, df_m1_aba2, df_m1_aba3]\n",
    "\n",
    "# Atualizar CNES apenas onde Proposta de Referência está no dicionário\n",
    "for df in df_sem_cnpj:\n",
    "    df['CNES'] = np.where(\n",
    "        df['Proposta de Referência'].isin(proposta_cnes_dict),\n",
    "        df['Proposta de Referência'].map(proposta_cnes_dict),\n",
    "        df['CNES']\n",
    "    ).astype('object')\n"
   ]
  },
  {
   "cell_type": "code",
   "execution_count": 6,
   "id": "cfde3232",
   "metadata": {
    "execution": {
     "iopub.execute_input": "2025-10-30T18:01:14.361954Z",
     "iopub.status.busy": "2025-10-30T18:01:14.361954Z",
     "iopub.status.idle": "2025-10-30T18:01:14.366159Z",
     "shell.execute_reply": "2025-10-30T18:01:14.366159Z"
    },
    "papermill": {
     "duration": 0.009728,
     "end_time": "2025-10-30T18:01:14.367165",
     "exception": false,
     "start_time": "2025-10-30T18:01:14.357437",
     "status": "completed"
    },
    "tags": []
   },
   "outputs": [],
   "source": [
    "# conversão modalidade 1\n",
    "\n",
    "for i, df in enumerate([df_m1_aba1, df_m1_aba2, df_m1_aba3], start=1):\n",
    "    # Garante que a coluna esteja no tipo string\n",
    "    df['Proposta de Referência'] = df['Proposta de Referência'].astype(str)\n"
   ]
  },
  {
   "cell_type": "code",
   "execution_count": 7,
   "id": "834c0401",
   "metadata": {
    "execution": {
     "iopub.execute_input": "2025-10-30T18:01:14.387696Z",
     "iopub.status.busy": "2025-10-30T18:01:14.387696Z",
     "iopub.status.idle": "2025-10-30T18:01:14.411442Z",
     "shell.execute_reply": "2025-10-30T18:01:14.411442Z"
    },
    "papermill": {
     "duration": 0.03276,
     "end_time": "2025-10-30T18:01:14.413449",
     "exception": false,
     "start_time": "2025-10-30T18:01:14.380689",
     "status": "completed"
    },
    "tags": []
   },
   "outputs": [],
   "source": [
    "# montando a MATRIZ DE OFERTA - CRÉDITO FINANCEIRO - CIRURGIAS\n",
    "\n",
    "# remover coluna\n",
    "df_cf_aba3.drop(columns='TP_COMPLEXIDADE', inplace=True)\n",
    "\n",
    "\n",
    "# colocar coluna 'entidade'\n",
    "df_cf_aba3 = df_cf_aba3.merge(df_cf_aba1[['Proposta de Referência', 'Entidade']],                                   \n",
    "    on='Proposta de Referência',\n",
    "    how='left')\n",
    "\n",
    "# alterando nome da colunas\n",
    "df_cf_aba3.rename(columns={\n",
    "    'Entidade': 'ENTIDADE','TX_COMPLEMENTACAO_MAXIMA': '% COMPLEMENTACAO_MAXIMA'                                        \n",
    "}, inplace=True)\n",
    "\n",
    "# reoganizado as colunas\n",
    "df_cf_aba3 = df_cf_aba3[[                                                                                               \n",
    "    'Proposta de Referência',\n",
    "    'Status da Proposta',\n",
    "    'UF',\n",
    "    'Município',\n",
    "    'CNES',\n",
    "    'ENTIDADE',\n",
    "    'CO_PROCEDIMENTO_SIGTAP',\n",
    "    'NO_GRUPO',\n",
    "    'NO_PROCEDIMENTO',\n",
    "    '% COMPLEMENTACAO_MAXIMA',\n",
    "    'VL_TABELA_SUS',\n",
    "    'VL_TOTAL_COMPLEMENTACAO_MAXIMA',\n",
    "    'VL_MEDIA_BRASIL_CALCULADO',\n",
    "    'QT_ATENDIMENTO_MES',\n",
    "    'VL_TOTAL'\n",
    "]]\n"
   ]
  },
  {
   "cell_type": "code",
   "execution_count": 8,
   "id": "fed8ec34",
   "metadata": {
    "execution": {
     "iopub.execute_input": "2025-10-30T18:01:14.424963Z",
     "iopub.status.busy": "2025-10-30T18:01:14.423964Z",
     "iopub.status.idle": "2025-10-30T18:01:14.435110Z",
     "shell.execute_reply": "2025-10-30T18:01:14.435110Z"
    },
    "papermill": {
     "duration": 0.017164,
     "end_time": "2025-10-30T18:01:14.436117",
     "exception": false,
     "start_time": "2025-10-30T18:01:14.418953",
     "status": "completed"
    },
    "tags": []
   },
   "outputs": [
    {
     "name": "stdout",
     "output_type": "stream",
     "text": [
      "<class 'pandas.core.frame.DataFrame'>\n",
      "RangeIndex: 3219 entries, 0 to 3218\n",
      "Data columns (total 15 columns):\n",
      " #   Column                          Non-Null Count  Dtype  \n",
      "---  ------                          --------------  -----  \n",
      " 0   Proposta de Referência          3219 non-null   object \n",
      " 1   Status da Proposta              3219 non-null   object \n",
      " 2   UF                              3219 non-null   object \n",
      " 3   Município                       3219 non-null   object \n",
      " 4   CNES                            3219 non-null   object \n",
      " 5   ENTIDADE                        3219 non-null   object \n",
      " 6   CO_PROCEDIMENTO_SIGTAP          3219 non-null   int64  \n",
      " 7   NO_GRUPO                        3219 non-null   object \n",
      " 8   NO_PROCEDIMENTO                 3219 non-null   object \n",
      " 9   % COMPLEMENTACAO_MAXIMA         3219 non-null   int64  \n",
      " 10  VL_TABELA_SUS                   3219 non-null   float64\n",
      " 11  VL_TOTAL_COMPLEMENTACAO_MAXIMA  3219 non-null   float64\n",
      " 12  VL_MEDIA_BRASIL_CALCULADO       3219 non-null   float64\n",
      " 13  QT_ATENDIMENTO_MES              3219 non-null   int64  \n",
      " 14  VL_TOTAL                        3219 non-null   float64\n",
      "dtypes: float64(4), int64(3), object(8)\n",
      "memory usage: 377.4+ KB\n"
     ]
    }
   ],
   "source": [
    "df_cf_aba3.info()"
   ]
  },
  {
   "cell_type": "code",
   "execution_count": 9,
   "id": "29e8ecc6",
   "metadata": {
    "execution": {
     "iopub.execute_input": "2025-10-30T18:01:14.448121Z",
     "iopub.status.busy": "2025-10-30T18:01:14.447124Z",
     "iopub.status.idle": "2025-10-30T18:01:14.462567Z",
     "shell.execute_reply": "2025-10-30T18:01:14.461561Z"
    },
    "papermill": {
     "duration": 0.022452,
     "end_time": "2025-10-30T18:01:14.464573",
     "exception": false,
     "start_time": "2025-10-30T18:01:14.442121",
     "status": "completed"
    },
    "tags": []
   },
   "outputs": [],
   "source": [
    "# montando a MATRIZ DE OFERTA - MODALIDADE 1 - CIRURGIAS\n",
    "\n",
    "# remover coluna 'TP_COMPLEXIDADE'\n",
    "df_m1_aba3.drop(columns='TP_COMPLEXIDADE', inplace=True)\n",
    "\n",
    "# remover coluna 'Entidade' existente, se houver\n",
    "if 'Entidade' in df_m1_aba3.columns:\n",
    "    df_m1_aba3.drop(columns='Entidade', inplace=True)\n",
    "\n",
    "# colocar coluna 'Entidade' via merge\n",
    "df_m1_aba3 = df_m1_aba3.merge(\n",
    "    df_m1_aba1[['Proposta de Referência', 'Entidade']],\n",
    "    on='Proposta de Referência',\n",
    "    how='left'\n",
    ")\n",
    "\n",
    "# renomear colunas\n",
    "df_m1_aba3.rename(columns={\n",
    "    'Entidade': 'ENTIDADE',\n",
    "    'TX_COMPLEMENTACAO_MAXIMA': '% COMPLEMENTACAO_MAXIMA'\n",
    "}, inplace=True)\n",
    "\n",
    "# reorganizar colunas\n",
    "df_m1_aba3 = df_m1_aba3[[                                                                                               \n",
    "    'Proposta de Referência',\n",
    "    'Status da Proposta',\n",
    "    'UF',\n",
    "    'Município',\n",
    "    'CNES',\n",
    "    'ENTIDADE',\n",
    "    'CO_PROCEDIMENTO_SIGTAP',\n",
    "    'NO_GRUPO',\n",
    "    'NO_PROCEDIMENTO',\n",
    "    '% COMPLEMENTACAO_MAXIMA',\n",
    "    'VL_TABELA_SUS',\n",
    "    'VL_TOTAL_COMPLEMENTACAO_MAXIMA',\n",
    "    'VL_MEDIA_BRASIL_CALCULADO',\n",
    "    'QT_ATENDIMENTO_MES',\n",
    "    'VL_TOTAL'\n",
    "]]\n"
   ]
  },
  {
   "cell_type": "code",
   "execution_count": 10,
   "id": "77b00d13",
   "metadata": {
    "execution": {
     "iopub.execute_input": "2025-10-30T18:01:14.475087Z",
     "iopub.status.busy": "2025-10-30T18:01:14.475087Z",
     "iopub.status.idle": "2025-10-30T18:01:14.484670Z",
     "shell.execute_reply": "2025-10-30T18:01:14.484670Z"
    },
    "papermill": {
     "duration": 0.016596,
     "end_time": "2025-10-30T18:01:14.485676",
     "exception": false,
     "start_time": "2025-10-30T18:01:14.469080",
     "status": "completed"
    },
    "tags": []
   },
   "outputs": [
    {
     "name": "stdout",
     "output_type": "stream",
     "text": [
      "<class 'pandas.core.frame.DataFrame'>\n",
      "RangeIndex: 2157 entries, 0 to 2156\n",
      "Data columns (total 15 columns):\n",
      " #   Column                          Non-Null Count  Dtype  \n",
      "---  ------                          --------------  -----  \n",
      " 0   Proposta de Referência          2157 non-null   object \n",
      " 1   Status da Proposta              2157 non-null   object \n",
      " 2   UF                              2157 non-null   object \n",
      " 3   Município                       2157 non-null   object \n",
      " 4   CNES                            2157 non-null   object \n",
      " 5   ENTIDADE                        2157 non-null   object \n",
      " 6   CO_PROCEDIMENTO_SIGTAP          2157 non-null   int64  \n",
      " 7   NO_GRUPO                        2157 non-null   object \n",
      " 8   NO_PROCEDIMENTO                 2157 non-null   object \n",
      " 9   % COMPLEMENTACAO_MAXIMA         2157 non-null   int64  \n",
      " 10  VL_TABELA_SUS                   2157 non-null   float64\n",
      " 11  VL_TOTAL_COMPLEMENTACAO_MAXIMA  2157 non-null   float64\n",
      " 12  VL_MEDIA_BRASIL_CALCULADO       2157 non-null   float64\n",
      " 13  QT_ATENDIMENTO_MES              2157 non-null   int64  \n",
      " 14  VL_TOTAL                        2157 non-null   float64\n",
      "dtypes: float64(4), int64(3), object(8)\n",
      "memory usage: 252.9+ KB\n"
     ]
    }
   ],
   "source": [
    "df_m1_aba3.info()"
   ]
  },
  {
   "cell_type": "code",
   "execution_count": 11,
   "id": "7eb3a264",
   "metadata": {
    "execution": {
     "iopub.execute_input": "2025-10-30T18:01:14.494693Z",
     "iopub.status.busy": "2025-10-30T18:01:14.494693Z",
     "iopub.status.idle": "2025-10-30T18:01:14.501100Z",
     "shell.execute_reply": "2025-10-30T18:01:14.501100Z"
    },
    "papermill": {
     "duration": 0.012422,
     "end_time": "2025-10-30T18:01:14.502107",
     "exception": false,
     "start_time": "2025-10-30T18:01:14.489685",
     "status": "completed"
    },
    "tags": []
   },
   "outputs": [],
   "source": [
    "# montando a MATRIZ DE OFERTA - CRÉDITO FINANCEIRO - OCI\n",
    "\n",
    "# remover coluna\n",
    "df_cf_aba2.drop(columns=['TP_SEXO','NU_IDADE_MINIMA','NU_IDADE_MAXIMA','VL_MEDIA_BRASIL_CALCULADO'], inplace=True)                   \n",
    "\n",
    "\n",
    "# colocar coluna 'entidade'\n",
    "df_cf_aba2 = df_cf_aba2.merge(df_cf_aba1[['Proposta de Referência', 'Entidade']],                        \n",
    "    on='Proposta de Referência',\n",
    "    how='left')\n",
    "\n",
    "\n",
    "# reoganizado as colunas\n",
    "df_cf_aba2= df_cf_aba2[[                                                                                 \n",
    "    'Proposta de Referência',\n",
    "    'Status da Proposta',\n",
    "    'UF',\n",
    "    'Município',\n",
    "    'CNES',\n",
    "    'Entidade',\n",
    "    'NU_PROCEDIMENTO',\n",
    "    'NO_GRUPO',\n",
    "    'NO_PROCEIDMENTO',\n",
    "    'DS_PROCEDIMENTO',\n",
    "    'QT_ATENDIMENTO_MES',\n",
    "    'VL_CALCULADO',\n",
    "    'VL_TOTAL'\n",
    "]]\n"
   ]
  },
  {
   "cell_type": "code",
   "execution_count": 12,
   "id": "12eb0a40",
   "metadata": {
    "execution": {
     "iopub.execute_input": "2025-10-30T18:01:14.511159Z",
     "iopub.status.busy": "2025-10-30T18:01:14.511159Z",
     "iopub.status.idle": "2025-10-30T18:01:14.518028Z",
     "shell.execute_reply": "2025-10-30T18:01:14.518028Z"
    },
    "papermill": {
     "duration": 0.012929,
     "end_time": "2025-10-30T18:01:14.519034",
     "exception": false,
     "start_time": "2025-10-30T18:01:14.506105",
     "status": "completed"
    },
    "tags": []
   },
   "outputs": [],
   "source": [
    "# montando a MATRIZ DE OFERTA - MODALIDADE 1 - OCI\n",
    "\n",
    "\n",
    "\n",
    "# Remover colunas desnecessárias\n",
    "df_m1_aba2.drop(columns=['TP_SEXO', 'NU_IDADE_MINIMA', 'NU_IDADE_MAXIMA'], inplace=True)\n",
    "\n",
    "# Criar coluna de valor total\n",
    "df_m1_aba2['VALOR_TOTAL_MES'] = df_m1_aba2['QT_ATENDIMENTO_MES'] * df_m1_aba2['VL_PROCEDIMENTO']\n",
    "\n",
    "# Adicionar coluna 'Entidade' via merge\n",
    "df_m1_aba2 = df_m1_aba2.merge(\n",
    "    df_m1_aba1[['Proposta de Referência', 'Entidade']],\n",
    "    on='Proposta de Referência',\n",
    "    how='left'\n",
    ")\n",
    "\n",
    "# Reorganizar colunas\n",
    "df_m1_aba2 = df_m1_aba2[[\n",
    "    'Proposta de Referência',\n",
    "    'Status da Proposta',\n",
    "    'UF',\n",
    "    'Município',\n",
    "    'CNES',\n",
    "    'Entidade',\n",
    "    'NU_PROCEDIMENTO',\n",
    "    'NO_GRUPO',\n",
    "    'NO_PROCEIDMENTO',\n",
    "    'DS_PROCEDIMENTO',\n",
    "    'QT_ATENDIMENTO_MES',\n",
    "    'VL_CALCULADO',\n",
    "    'VL_TOTAL'\n",
    "]]\n",
    "\n"
   ]
  },
  {
   "cell_type": "code",
   "execution_count": 13,
   "id": "8343fa67",
   "metadata": {
    "execution": {
     "iopub.execute_input": "2025-10-30T18:01:14.527546Z",
     "iopub.status.busy": "2025-10-30T18:01:14.527546Z",
     "iopub.status.idle": "2025-10-30T18:01:14.538571Z",
     "shell.execute_reply": "2025-10-30T18:01:14.538061Z"
    },
    "papermill": {
     "duration": 0.016533,
     "end_time": "2025-10-30T18:01:14.540078",
     "exception": false,
     "start_time": "2025-10-30T18:01:14.523545",
     "status": "completed"
    },
    "tags": []
   },
   "outputs": [],
   "source": [
    "# montando a aba SIMPLIFICADA - CRÉDITO FINANCEIRO \n",
    "\n",
    "\n",
    "# copiando a informação da df_cf_aba1\n",
    "df_simp_cc = df_cf_aba1.copy()\n",
    "\n",
    "# Remover colunas desnecessárias\n",
    "df_simp_cc.drop(columns=[\n",
    "    'Dt. Cadastro', 'Dt. Atualização', 'Dívida Aprox.', 'VL_SALDO_DEVEDOR', \n",
    "    'VL_TRIBUTO_FEDERAL_ESTIMADO'], inplace=True)\n",
    "\n",
    "# Converter a coluna VL_TOTAL para numérico (float), tratando erros\n",
    "df_cf_aba3['VL_TOTAL'] = pd.to_numeric(df_cf_aba3['VL_TOTAL'], errors='coerce')\n",
    "\n",
    "# Agrupar df_cf_aba3 por 'Proposta de Referência' e somar 'VALOR_TOTAL_MES' --- CIRURGIAS\n",
    "soma_por_proposta_cc = df_cf_aba3.groupby('Proposta de Referência')['VL_TOTAL'].sum().reset_index()\n",
    "\n",
    "# Renomear a coluna para o nome desejado\n",
    "soma_por_proposta_cc.rename(columns={'VL_TOTAL': 'VL_TOTAL_COMP_CIRUGICO'}, inplace=True)\n",
    "\n",
    "# Fazer o merge com df_simp_cc\n",
    "df_simp_cc = df_simp_cc.merge(soma_por_proposta_cc, on='Proposta de Referência', how='left')\n",
    "\n",
    "\n",
    "# Agrupar df_cf_aba2 por 'Proposta de Referência' e somar 'VALOR_TOTAL_MES' --- OCI\n",
    "soma_por_proposta_co = df_cf_aba2.groupby('Proposta de Referência')['VL_TOTAL'].sum().reset_index()\n",
    "\n",
    "# Renomear a coluna para o nome desejado\n",
    "soma_por_proposta_co.rename(columns={'VL_TOTAL': 'VL_TOTAL_OCI'}, inplace=True)\n",
    "\n",
    "# Fazer o merge com df_simp_cc\n",
    "df_simp_cc = df_simp_cc.merge(soma_por_proposta_co, on='Proposta de Referência', how='left')"
   ]
  },
  {
   "cell_type": "code",
   "execution_count": 14,
   "id": "da3f0b27",
   "metadata": {
    "execution": {
     "iopub.execute_input": "2025-10-30T18:01:14.549092Z",
     "iopub.status.busy": "2025-10-30T18:01:14.549092Z",
     "iopub.status.idle": "2025-10-30T18:01:14.553391Z",
     "shell.execute_reply": "2025-10-30T18:01:14.553391Z"
    },
    "papermill": {
     "duration": 0.010316,
     "end_time": "2025-10-30T18:01:14.554400",
     "exception": false,
     "start_time": "2025-10-30T18:01:14.544084",
     "status": "completed"
    },
    "tags": []
   },
   "outputs": [],
   "source": [
    "# nova coluna de total COMP + OCI\n",
    "df_simp_cc['VL_TOTAL_COMP_CIRUGICO'].fillna(0, inplace=True)\n",
    "df_simp_cc['VL_TOTAL_OCI'].fillna(0, inplace=True)\n",
    "df_simp_cc['VALOR_TOTAL_MES_COMP+OCI'] = df_simp_cc['VL_TOTAL_COMP_CIRUGICO'] + df_simp_cc['VL_TOTAL_OCI']\n",
    "df_simp_cc['VALOR_TOTAL_ANO_COMP+OCI']= df_simp_cc['VALOR_TOTAL_MES_COMP+OCI']*12\n"
   ]
  },
  {
   "cell_type": "code",
   "execution_count": 15,
   "id": "a24c4d46",
   "metadata": {
    "execution": {
     "iopub.execute_input": "2025-10-30T18:01:14.564914Z",
     "iopub.status.busy": "2025-10-30T18:01:14.563915Z",
     "iopub.status.idle": "2025-10-30T18:01:14.567913Z",
     "shell.execute_reply": "2025-10-30T18:01:14.567913Z"
    },
    "papermill": {
     "duration": 0.010779,
     "end_time": "2025-10-30T18:01:14.569686",
     "exception": false,
     "start_time": "2025-10-30T18:01:14.558907",
     "status": "completed"
    },
    "tags": []
   },
   "outputs": [],
   "source": [
    "# aba de Cancelado\n",
    "df_proposta_cancelada = df_simp_cc[df_simp_cc['Status da Proposta'] == 'Cancelado'].copy()\n"
   ]
  },
  {
   "cell_type": "code",
   "execution_count": 16,
   "id": "6ce8bcc7",
   "metadata": {
    "execution": {
     "iopub.execute_input": "2025-10-30T18:01:14.577695Z",
     "iopub.status.busy": "2025-10-30T18:01:14.577695Z",
     "iopub.status.idle": "2025-10-30T18:01:14.588731Z",
     "shell.execute_reply": "2025-10-30T18:01:14.588227Z"
    },
    "papermill": {
     "duration": 0.016044,
     "end_time": "2025-10-30T18:01:14.589736",
     "exception": false,
     "start_time": "2025-10-30T18:01:14.573692",
     "status": "completed"
    },
    "tags": []
   },
   "outputs": [],
   "source": [
    "# Montando a aba SIMPLIFICADA - MODALIDADE 1\n",
    "\n",
    "# Copiar os dados da aba 1\n",
    "df_simp_m1 = df_m1_aba1.copy()\n",
    "\n",
    "# Remover colunas desnecessárias\n",
    "df_simp_m1.drop(columns=['Dt. Cadastro', 'Dt. Atualização'], inplace=True)\n",
    "\n",
    "# Converter a coluna VL_TOTAL de df_m1_aba3 para numérico\n",
    "df_m1_aba3['VL_TOTAL'] = pd.to_numeric(df_m1_aba3['VL_TOTAL'], errors='coerce')\n",
    "\n",
    "# Agrupar df_m1_aba3 por 'Proposta de Referência' e somar VL_TOTAL (CIRURGIAS)\n",
    "soma_por_proposta_mc = df_m1_aba3.groupby('Proposta de Referência')['VL_TOTAL'].sum().reset_index()\n",
    "soma_por_proposta_mc.rename(columns={'VL_TOTAL': 'VL_TOTAL_COMP_CIRUGICO'}, inplace=True)\n",
    "\n",
    "# Merge com df_simp_m1\n",
    "df_simp_m1 = df_simp_m1.merge(soma_por_proposta_mc, on='Proposta de Referência', how='left')\n",
    "\n",
    "# Converter a coluna VL_TOTAL de df_m1_aba2 para numérico (caso necessário)\n",
    "df_m1_aba2['VL_TOTAL'] = pd.to_numeric(df_m1_aba2['VL_TOTAL'], errors='coerce')\n",
    "\n",
    "# Agrupar df_m1_aba2 por 'Proposta de Referência' e somar VL_TOTAL (OCI)\n",
    "soma_por_proposta_mo = df_m1_aba2.groupby('Proposta de Referência')['VL_TOTAL'].sum().reset_index()\n",
    "soma_por_proposta_mo.rename(columns={'VL_TOTAL': 'VL_TOTAL_OCI'}, inplace=True)\n",
    "\n",
    "# Merge final com df_simp_m1\n",
    "df_simp_m1 = df_simp_m1.merge(soma_por_proposta_mo, on='Proposta de Referência', how='left')\n"
   ]
  },
  {
   "cell_type": "code",
   "execution_count": 17,
   "id": "4d8e44b6",
   "metadata": {
    "execution": {
     "iopub.execute_input": "2025-10-30T18:01:14.601749Z",
     "iopub.status.busy": "2025-10-30T18:01:14.600748Z",
     "iopub.status.idle": "2025-10-30T18:01:14.605835Z",
     "shell.execute_reply": "2025-10-30T18:01:14.605835Z"
    },
    "papermill": {
     "duration": 0.012105,
     "end_time": "2025-10-30T18:01:14.606840",
     "exception": false,
     "start_time": "2025-10-30T18:01:14.594735",
     "status": "completed"
    },
    "tags": []
   },
   "outputs": [],
   "source": [
    "# nova coluna de total COMP + OCI\n",
    "df_simp_m1['VL_TOTAL_COMP_CIRUGICO'].fillna(0, inplace=True)\n",
    "df_simp_m1['VL_TOTAL_OCI'].fillna(0, inplace=True)\n",
    "df_simp_m1['VALOR_TOTAL_MES_COMP+OCI'] = df_simp_m1['VL_TOTAL_COMP_CIRUGICO'] + df_simp_m1['VL_TOTAL_OCI']\n",
    "df_simp_m1['VALOR_TOTAL_ANO_COMP+OCI']= df_simp_m1['VALOR_TOTAL_MES_COMP+OCI']*12"
   ]
  },
  {
   "cell_type": "markdown",
   "id": "d403aa80",
   "metadata": {
    "papermill": {
     "duration": 0.004004,
     "end_time": "2025-10-30T18:01:14.614851",
     "exception": false,
     "start_time": "2025-10-30T18:01:14.610847",
     "status": "completed"
    },
    "tags": []
   },
   "source": [
    "# TERCEIRA PARTE, Carregar os dataFrame para a tabela MODELO"
   ]
  },
  {
   "cell_type": "code",
   "execution_count": 18,
   "id": "37dee1ce",
   "metadata": {
    "execution": {
     "iopub.execute_input": "2025-10-30T18:01:14.623855Z",
     "iopub.status.busy": "2025-10-30T18:01:14.623855Z",
     "iopub.status.idle": "2025-10-30T18:01:19.697068Z",
     "shell.execute_reply": "2025-10-30T18:01:19.697068Z"
    },
    "papermill": {
     "duration": 5.079439,
     "end_time": "2025-10-30T18:01:19.698290",
     "exception": false,
     "start_time": "2025-10-30T18:01:14.618851",
     "status": "completed"
    },
    "tags": []
   },
   "outputs": [
    {
     "name": "stdout",
     "output_type": "stream",
     "text": [
      "📂 Arquivo modelo carregado.\n",
      "✅ Aba 'CREDITO_FINANCEIRO' atualizada com 207 linhas.\n",
      "✅ Aba 'M_OFERTA_CF_OCI' atualizada com 495 linhas.\n",
      "✅ Aba 'M_OFERTA_CF_CC' atualizada com 3219 linhas.\n",
      "✅ Aba 'SIMP_CF' atualizada com 207 linhas.\n",
      "✅ Aba 'MODALIDADE_1' atualizada com 141 linhas.\n",
      "✅ Aba 'M_OFERTA_M1_OCI' atualizada com 629 linhas.\n",
      "✅ Aba 'M_OFERTA_M1_CC' atualizada com 2157 linhas.\n",
      "✅ Aba 'SIMP_M1' atualizada com 141 linhas.\n",
      "✅ Aba 'CCPP-CANCELAR' atualizada com 8 linhas.\n",
      "\n",
      "🛠 Atualizando aba 'INFO'...\n",
      "   -> Aba 'INFO' atualizada (H2: Data/Hora, G1: BR).\n",
      "\n",
      "-----------------------------------------------------------------\n",
      "🎉 Sucesso! O novo arquivo 'saida\\20251031_MONITORAMENTO DE COMPONENTE.xlsx' foi criado.\n",
      "   As abas 'VISÃO_GERAL' e 'VISÃO_GERAL_M1' devem ter sido recalculadas pelo Excel.\n",
      "-----------------------------------------------------------------\n"
     ]
    }
   ],
   "source": [
    "import os\n",
    "import pandas as pd\n",
    "import openpyxl\n",
    "from openpyxl.utils.dataframe import dataframe_to_rows\n",
    "from datetime import datetime\n",
    "\n",
    "# Diretórios e arquivos\n",
    "MODELO_FILENAME = \"MONITORAMENTO DE COMPONENTE.xlsx\"\n",
    "MODELO_DIR = os.path.join(os.getcwd(), \"model\")\n",
    "MODELO_PATH = os.path.join(MODELO_DIR, MODELO_FILENAME)\n",
    "\n",
    "# Mapeamento dos arquivos para as abas\n",
    "MAPPING = {\n",
    "    \"df_cf_aba1\": \"CREDITO_FINANCEIRO\",\n",
    "    \"df_cf_aba2\": \"M_OFERTA_CF_OCI\",\n",
    "    \"df_cf_aba3\": \"M_OFERTA_CF_CC\",\n",
    "    \"df_simp_cc\": \"SIMP_CF\",\n",
    "    \"df_m1_aba1\": \"MODALIDADE_1\",\n",
    "    \"df_m1_aba2\": \"M_OFERTA_M1_OCI\",\n",
    "    \"df_m1_aba3\": \"M_OFERTA_M1_CC\",\n",
    "    \"df_simp_m1\": \"SIMP_M1\",\n",
    "    \"df_proposta_cancelada\": \"CCPP-CANCELAR\",\n",
    "}\n",
    "\n",
    "# Função para sobrescrever a aba a partir da linha 3\n",
    "def sobrescrever_aba(workbook, aba_nome, df):\n",
    "    if aba_nome in workbook.sheetnames:\n",
    "        ws = workbook[aba_nome]\n",
    "        for i, row in enumerate(dataframe_to_rows(df, index=False, header=False), start=3):\n",
    "            for j, value in enumerate(row, start=1):\n",
    "                ws.cell(row=i, column=j, value=value)\n",
    "        print(f\"✅ Aba '{aba_nome}' atualizada com {len(df)} linhas.\")\n",
    "    else:\n",
    "        print(f\"⚠️ Aba '{aba_nome}' não encontrada no modelo.\")\n",
    "\n",
    "# Função para carregar os DataFrames (simplesmente acessa variáveis globais)\n",
    "def carregar_dados_do_excel(nome_df):\n",
    "    try:\n",
    "        return globals()[nome_df]\n",
    "    except KeyError:\n",
    "        print(f\"⚠️ DataFrame '{nome_df}' não está definido.\")\n",
    "        return None\n",
    "\n",
    "# Execução principal\n",
    "if not os.path.exists(MODELO_PATH):\n",
    "    print(f\"❌ Erro: O arquivo modelo esperado '{MODELO_FILENAME}' não foi encontrado em '{MODELO_DIR}'.\")\n",
    "    print(\"Verifique se o caminho do arquivo modelo está correto.\")\n",
    "else:\n",
    "    try:\n",
    "        modelo_wb = openpyxl.load_workbook(MODELO_PATH)\n",
    "        print(\"📂 Arquivo modelo carregado.\")\n",
    "\n",
    "        # Atualizar abas conforme mapeamento\n",
    "        for df_nome, aba_nome in MAPPING.items():\n",
    "            df = carregar_dados_do_excel(df_nome)\n",
    "            if df is not None:\n",
    "                sobrescrever_aba(modelo_wb, aba_nome, df)\n",
    "\n",
    "        # Atualizar aba INFO\n",
    "        print(\"\\n🛠 Atualizando aba 'INFO'...\")\n",
    "        sigla_uf = \"BR\"\n",
    "\n",
    "        if 'INFO' in modelo_wb.sheetnames:\n",
    "            aba_info = modelo_wb['INFO']\n",
    "            aba_info['H2'] = datetime.now().strftime('%d/%m/%Y %H:%M')\n",
    "            aba_info['G1'] = sigla_uf\n",
    "            print(f\"   -> Aba 'INFO' atualizada (H2: Data/Hora, G1: {sigla_uf}).\")\n",
    "        else:\n",
    "            print(\"   ⚠️ Aba 'INFO' não encontrada no arquivo modelo.\")\n",
    "\n",
    "        # Salvar novo arquivo\n",
    "        os.makedirs(\"saida\", exist_ok=True)\n",
    "        novo_nome = os.path.join(\"saida\", f\"{datetime.today().strftime('%Y%m%d')}_{MODELO_FILENAME}\")\n",
    "        modelo_wb.save(novo_nome)\n",
    "\n",
    "        print(\"\\n-----------------------------------------------------------------\")\n",
    "        print(f\"🎉 Sucesso! O novo arquivo '{novo_nome}' foi criado.\")\n",
    "        print(\"   As abas 'VISÃO_GERAL' e 'VISÃO_GERAL_M1' devem ter sido recalculadas pelo Excel.\")\n",
    "        print(\"-----------------------------------------------------------------\")\n",
    "\n",
    "    except Exception as e:\n",
    "        print(f\"❌ Erro fatal durante a execução: {e}\")\n"
   ]
  },
  {
   "cell_type": "code",
   "execution_count": 19,
   "id": "cc063f2a",
   "metadata": {
    "execution": {
     "iopub.execute_input": "2025-10-30T18:01:19.710812Z",
     "iopub.status.busy": "2025-10-30T18:01:19.710812Z",
     "iopub.status.idle": "2025-10-30T18:01:19.714808Z",
     "shell.execute_reply": "2025-10-30T18:01:19.714808Z"
    },
    "papermill": {
     "duration": 0.013017,
     "end_time": "2025-10-30T18:01:19.716816",
     "exception": false,
     "start_time": "2025-10-30T18:01:19.703799",
     "status": "completed"
    },
    "tags": []
   },
   "outputs": [],
   "source": [
    "# Caminho da pasta Downloads\n",
    "pasta = os.path.expanduser(\"~/Downloads\")\n",
    "\n",
    "# Percorre todos os arquivos na pasta\n",
    "for arquivo in os.listdir(pasta):\n",
    "    caminho_arquivo = os.path.join(pasta, arquivo)\n",
    "    if os.path.isfile(caminho_arquivo):\n",
    "        os.remove(caminho_arquivo)\n"
   ]
  },
  {
   "cell_type": "code",
   "execution_count": 20,
   "id": "0b174ef5",
   "metadata": {
    "execution": {
     "iopub.execute_input": "2025-10-30T18:01:19.725329Z",
     "iopub.status.busy": "2025-10-30T18:01:19.725329Z",
     "iopub.status.idle": "2025-10-30T18:01:19.730144Z",
     "shell.execute_reply": "2025-10-30T18:01:19.729624Z"
    },
    "papermill": {
     "duration": 0.010823,
     "end_time": "2025-10-30T18:01:19.731150",
     "exception": false,
     "start_time": "2025-10-30T18:01:19.720327",
     "status": "completed"
    },
    "tags": []
   },
   "outputs": [
    {
     "name": "stdout",
     "output_type": "stream",
     "text": [
      "✅ Tempo total de execução: 0h 1min 8s\n"
     ]
    }
   ],
   "source": [
    "fim = datetime.now()\n",
    "tempo_total = fim - inicio\n",
    "\n",
    "horas, resto = divmod(tempo_total.total_seconds(), 3600)\n",
    "minutos, segundos = divmod(resto, 60)\n",
    "\n",
    "print(f\"✅ Tempo total de execução: {int(horas)}h {int(minutos)}min {int(segundos)}s\")"
   ]
  }
 ],
 "metadata": {
  "kernelspec": {
   "display_name": ".venv",
   "language": "python",
   "name": "python3"
  },
  "language_info": {
   "codemirror_mode": {
    "name": "ipython",
    "version": 3
   },
   "file_extension": ".py",
   "mimetype": "text/x-python",
   "name": "python",
   "nbconvert_exporter": "python",
   "pygments_lexer": "ipython3",
   "version": "3.11.9"
  },
  "papermill": {
   "default_parameters": {},
   "duration": 76.427392,
   "end_time": "2025-10-30T18:01:20.359137",
   "environment_variables": {},
   "exception": null,
   "input_path": "credito_modalidade.ipynb",
   "output_path": "credito_modalidade.ipynb",
   "parameters": {},
   "start_time": "2025-10-30T18:00:03.931745",
   "version": "2.6.0"
  }
 },
 "nbformat": 4,
 "nbformat_minor": 5
}
